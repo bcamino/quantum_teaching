{
 "cells": [
  {
   "cell_type": "markdown",
   "id": "7a75d719",
   "metadata": {},
   "source": [
    "# QA simulation of vacancies in graphene "
   ]
  },
  {
   "cell_type": "markdown",
   "id": "0a436220",
   "metadata": {},
   "source": [
    "## Generate the graphene structure"
   ]
  },
  {
   "cell_type": "code",
   "execution_count": 4,
   "id": "f5b22d91",
   "metadata": {},
   "outputs": [],
   "source": [
    "from pymatgen.core.structure import Structure\n",
    "from pymatgen.symmetry.analyzer import SpacegroupAnalyzer\n",
    "from pymatgen.io.ase import AseAtomsAdaptor\n",
    "from ase.visualize import view\n",
    "import numpy as np\n",
    "import pandas as pd\n",
    "import copy\n",
    "import sys\n",
    "sys.path.append('../quantum_computing/')\n",
    "from quantum_computing_functions import *\n",
    "from quantum_computing_postprocessing import *\n",
    "\n",
    "lattice = np.array([[ 1.233862, -2.137112,  0.      ],\n",
    "                   [ 1.233862,  2.137112,  0.      ],\n",
    "                   [ 0.      ,  0.      ,  8.685038]])\n",
    "\n",
    "graphene = Structure(lattice, species=['C','C'], coords=[[2/3, 1/3, 0. ],[1/3, 2/3, 0.]])\n",
    "graphene = SpacegroupAnalyzer(graphene).get_conventional_standard_structure()\n",
    "\n",
    "scaling_matrix = np.array([[3, 0, 0],\n",
    "                            [0, 3, 0],\n",
    "                            [0, 0, 1]])\n",
    "\n",
    "graphene_supercell = copy.deepcopy(graphene)\n",
    "graphene_supercell.make_supercell(scaling_matrix)\n",
    "structure = graphene_supercell\n",
    "num_sites = graphene_supercell.num_sites"
   ]
  },
  {
   "cell_type": "code",
   "execution_count": 5,
   "id": "47dcd9bc",
   "metadata": {
    "scrolled": true
   },
   "outputs": [
    {
     "data": {
      "text/plain": [
       "<Popen: returncode: None args: ['/Users/brunocamino/miniconda3/envs/qc/bin/p...>"
      ]
     },
     "execution_count": 5,
     "metadata": {},
     "output_type": "execute_result"
    }
   ],
   "source": [
    "view(AseAtomsAdaptor().get_atoms(graphene_supercell))"
   ]
  },
  {
   "cell_type": "markdown",
   "id": "124e6670",
   "metadata": {},
   "source": [
    "## Build the energy model"
   ]
  },
  {
   "cell_type": "markdown",
   "id": "b754962e",
   "metadata": {},
   "source": [
    "### Adjacency matrix"
   ]
  },
  {
   "cell_type": "code",
   "execution_count": 6,
   "id": "8295edaa",
   "metadata": {},
   "outputs": [
    {
     "data": {
      "text/plain": [
       "array([[0, 0, 0, 0, 0, 0, 0, 0, 0, 1, 1, 0, 0, 0, 0, 1, 0, 0],\n",
       "       [0, 0, 0, 0, 0, 0, 0, 0, 0, 0, 1, 1, 0, 0, 0, 0, 1, 0],\n",
       "       [0, 0, 0, 0, 0, 0, 0, 0, 0, 1, 0, 1, 0, 0, 0, 0, 0, 1],\n",
       "       [0, 0, 0, 0, 0, 0, 0, 0, 0, 1, 0, 0, 1, 1, 0, 0, 0, 0],\n",
       "       [0, 0, 0, 0, 0, 0, 0, 0, 0, 0, 1, 0, 0, 1, 1, 0, 0, 0],\n",
       "       [0, 0, 0, 0, 0, 0, 0, 0, 0, 0, 0, 1, 1, 0, 1, 0, 0, 0],\n",
       "       [0, 0, 0, 0, 0, 0, 0, 0, 0, 0, 0, 0, 1, 0, 0, 1, 1, 0],\n",
       "       [0, 0, 0, 0, 0, 0, 0, 0, 0, 0, 0, 0, 0, 1, 0, 0, 1, 1],\n",
       "       [0, 0, 0, 0, 0, 0, 0, 0, 0, 0, 0, 0, 0, 0, 1, 1, 0, 1],\n",
       "       [1, 0, 1, 1, 0, 0, 0, 0, 0, 0, 0, 0, 0, 0, 0, 0, 0, 0],\n",
       "       [1, 1, 0, 0, 1, 0, 0, 0, 0, 0, 0, 0, 0, 0, 0, 0, 0, 0],\n",
       "       [0, 1, 1, 0, 0, 1, 0, 0, 0, 0, 0, 0, 0, 0, 0, 0, 0, 0],\n",
       "       [0, 0, 0, 1, 0, 1, 1, 0, 0, 0, 0, 0, 0, 0, 0, 0, 0, 0],\n",
       "       [0, 0, 0, 1, 1, 0, 0, 1, 0, 0, 0, 0, 0, 0, 0, 0, 0, 0],\n",
       "       [0, 0, 0, 0, 1, 1, 0, 0, 1, 0, 0, 0, 0, 0, 0, 0, 0, 0],\n",
       "       [1, 0, 0, 0, 0, 0, 1, 0, 1, 0, 0, 0, 0, 0, 0, 0, 0, 0],\n",
       "       [0, 1, 0, 0, 0, 0, 1, 1, 0, 0, 0, 0, 0, 0, 0, 0, 0, 0],\n",
       "       [0, 0, 1, 0, 0, 0, 0, 1, 1, 0, 0, 0, 0, 0, 0, 0, 0, 0]])"
      ]
     },
     "execution_count": 6,
     "metadata": {},
     "output_type": "execute_result"
    }
   ],
   "source": [
    "shells = np.unique(np.round(graphene_supercell.distance_matrix[0],5)) \n",
    "adjacency_matrix = (np.round(graphene_supercell.distance_matrix,5) == shells[1]).astype(int)\n",
    "adjacency_matrix"
   ]
  },
  {
   "cell_type": "code",
   "execution_count": 7,
   "id": "c834bfda",
   "metadata": {},
   "outputs": [
    {
     "name": "stdout",
     "output_type": "stream",
     "text": [
      "The nearest neighbours of atom 0 are atoms 9, 10 and 15.\n",
      "The nearest neighbours of atom 1 are atoms 10, 11 and 16.\n",
      "The nearest neighbours of atom 2 are atoms 9, 11 and 17.\n",
      "The nearest neighbours of atom 3 are atoms 9, 12 and 13.\n",
      "The nearest neighbours of atom 4 are atoms 10, 13 and 14.\n",
      "The nearest neighbours of atom 5 are atoms 11, 12 and 14.\n",
      "The nearest neighbours of atom 6 are atoms 12, 15 and 16.\n",
      "The nearest neighbours of atom 7 are atoms 13, 16 and 17.\n",
      "The nearest neighbours of atom 8 are atoms 14, 15 and 17.\n",
      "The nearest neighbours of atom 9 are atoms 0, 2 and 3.\n",
      "The nearest neighbours of atom 10 are atoms 0, 1 and 4.\n",
      "The nearest neighbours of atom 11 are atoms 1, 2 and 5.\n",
      "The nearest neighbours of atom 12 are atoms 3, 5 and 6.\n",
      "The nearest neighbours of atom 13 are atoms 3, 4 and 7.\n",
      "The nearest neighbours of atom 14 are atoms 4, 5 and 8.\n",
      "The nearest neighbours of atom 15 are atoms 0, 6 and 8.\n",
      "The nearest neighbours of atom 16 are atoms 1, 6 and 7.\n",
      "The nearest neighbours of atom 17 are atoms 2, 7 and 8.\n"
     ]
    }
   ],
   "source": [
    "nn_1,nn_2 = np.where(adjacency_matrix == 1)\n",
    "for i in range(0,graphene_supercell.num_sites):\n",
    "    print('The nearest neighbours of atom %i are atoms %s, %s and %s.'%(i,nn_2[i*3],nn_2[i*3+1],nn_2[i*3+2]))"
   ]
  },
  {
   "cell_type": "markdown",
   "id": "d7e2db6a",
   "metadata": {},
   "source": [
    "### QUBO matrix\n",
    "\n",
    "\\begin{align} \\label{QUBO_1}\n",
    "    \\bf{Q}\n",
    "    \\begin{cases}\n",
    "        %Q_{i,j} = 0 & \\text{for } i=j \\\\\n",
    "        Q_{i,j} = - A_{i,j} & \\text{for } i>j \\\\\n",
    "        Q_{i,j} = 0 & \\text{for } i<j\n",
    "    \\end{cases}\n",
    "\\end{align} \n",
    "                                      "
   ]
  },
  {
   "cell_type": "code",
   "execution_count": 8,
   "id": "adf0551b",
   "metadata": {},
   "outputs": [
    {
     "data": {
      "text/plain": [
       "array([[ 0,  0,  0,  0,  0,  0,  0,  0,  0, -1, -1,  0,  0,  0,  0, -1,\n",
       "         0,  0],\n",
       "       [ 0,  0,  0,  0,  0,  0,  0,  0,  0,  0, -1, -1,  0,  0,  0,  0,\n",
       "        -1,  0],\n",
       "       [ 0,  0,  0,  0,  0,  0,  0,  0,  0, -1,  0, -1,  0,  0,  0,  0,\n",
       "         0, -1],\n",
       "       [ 0,  0,  0,  0,  0,  0,  0,  0,  0, -1,  0,  0, -1, -1,  0,  0,\n",
       "         0,  0],\n",
       "       [ 0,  0,  0,  0,  0,  0,  0,  0,  0,  0, -1,  0,  0, -1, -1,  0,\n",
       "         0,  0],\n",
       "       [ 0,  0,  0,  0,  0,  0,  0,  0,  0,  0,  0, -1, -1,  0, -1,  0,\n",
       "         0,  0],\n",
       "       [ 0,  0,  0,  0,  0,  0,  0,  0,  0,  0,  0,  0, -1,  0,  0, -1,\n",
       "        -1,  0],\n",
       "       [ 0,  0,  0,  0,  0,  0,  0,  0,  0,  0,  0,  0,  0, -1,  0,  0,\n",
       "        -1, -1],\n",
       "       [ 0,  0,  0,  0,  0,  0,  0,  0,  0,  0,  0,  0,  0,  0, -1, -1,\n",
       "         0, -1],\n",
       "       [ 0,  0,  0,  0,  0,  0,  0,  0,  0,  0,  0,  0,  0,  0,  0,  0,\n",
       "         0,  0],\n",
       "       [ 0,  0,  0,  0,  0,  0,  0,  0,  0,  0,  0,  0,  0,  0,  0,  0,\n",
       "         0,  0],\n",
       "       [ 0,  0,  0,  0,  0,  0,  0,  0,  0,  0,  0,  0,  0,  0,  0,  0,\n",
       "         0,  0],\n",
       "       [ 0,  0,  0,  0,  0,  0,  0,  0,  0,  0,  0,  0,  0,  0,  0,  0,\n",
       "         0,  0],\n",
       "       [ 0,  0,  0,  0,  0,  0,  0,  0,  0,  0,  0,  0,  0,  0,  0,  0,\n",
       "         0,  0],\n",
       "       [ 0,  0,  0,  0,  0,  0,  0,  0,  0,  0,  0,  0,  0,  0,  0,  0,\n",
       "         0,  0],\n",
       "       [ 0,  0,  0,  0,  0,  0,  0,  0,  0,  0,  0,  0,  0,  0,  0,  0,\n",
       "         0,  0],\n",
       "       [ 0,  0,  0,  0,  0,  0,  0,  0,  0,  0,  0,  0,  0,  0,  0,  0,\n",
       "         0,  0],\n",
       "       [ 0,  0,  0,  0,  0,  0,  0,  0,  0,  0,  0,  0,  0,  0,  0,  0,\n",
       "         0,  0]])"
      ]
     },
     "execution_count": 8,
     "metadata": {},
     "output_type": "execute_result"
    }
   ],
   "source": [
    "alpha = 1\n",
    "Q = np.triu(-adjacency_matrix.astype(int),0)\n",
    "Q"
   ]
  },
  {
   "cell_type": "markdown",
   "id": "5fd3c557",
   "metadata": {},
   "source": [
    "### Run the quantum annealing"
   ]
  },
  {
   "cell_type": "code",
   "execution_count": 10,
   "id": "dc78db0a",
   "metadata": {},
   "outputs": [],
   "source": [
    "from dwave.system.samplers import DWaveSampler\n",
    "from dwave.system.composites import EmbeddingComposite\n",
    "from dwave.inspector import show\n",
    "\n",
    "sampler = EmbeddingComposite(DWaveSampler())\n",
    "sampleset_graphene = sampler.sample_qubo(Q, num_reads=1000,\n",
    "                               label='Example - Vacancies in graphene')"
   ]
  },
  {
   "cell_type": "code",
   "execution_count": 11,
   "id": "6bab0491",
   "metadata": {
    "collapsed": true
   },
   "outputs": [
    {
     "data": {
      "text/plain": [
       "SampleSet(rec.array([([1, 1, 1, 1, 1, 1, 1, 1, 1, 1, 1, 1, 1, 1, 1, 1, 1, 1], -27., 1000, 0.)],\n",
       "          dtype=[('sample', 'i1', (18,)), ('energy', '<f8'), ('num_occurrences', '<i8'), ('chain_break_fraction', '<f8')]), Variables(range(0, 18)), {'timing': {'qpu_sampling_time': 117080.0, 'qpu_anneal_time_per_sample': 20.0, 'qpu_readout_time_per_sample': 76.54, 'qpu_access_time': 132834.77, 'qpu_access_overhead_time': 1600.23, 'qpu_programming_time': 15754.77, 'qpu_delay_time_per_sample': 20.54, 'total_post_processing_time': 1957.0, 'post_processing_overhead_time': 1957.0}, 'problem_id': 'cfbe8a51-8b4f-4e7a-8495-eee609a07803', 'problem_label': 'Example - Vacancies in graphene', 'embedding_context': {'embedding': {9: (4946,), 0: (2036,), 2: (4945,), 3: (2080,), 10: (2021,), 1: (5065,), 4: (5035,), 11: (2006,), 5: (4960,), 12: (4961,), 6: (2050,), 13: (2081,), 7: (5020,), 14: (1976,), 8: (5005,), 15: (4990,), 16: (2051,), 17: (1991,)}, 'chain_break_method': 'majority_vote', 'embedding_parameters': {}, 'chain_strength': 0.6122799604755981}, 'warnings': []}, 'BINARY')"
      ]
     },
     "execution_count": 11,
     "metadata": {},
     "output_type": "execute_result"
    }
   ],
   "source": [
    "sampleset_graphene"
   ]
  },
  {
   "cell_type": "code",
   "execution_count": 12,
   "id": "dac247dd",
   "metadata": {},
   "outputs": [
    {
     "data": {
      "text/html": [
       "<div>\n",
       "<style scoped>\n",
       "    .dataframe tbody tr th:only-of-type {\n",
       "        vertical-align: middle;\n",
       "    }\n",
       "\n",
       "    .dataframe tbody tr th {\n",
       "        vertical-align: top;\n",
       "    }\n",
       "\n",
       "    .dataframe thead th {\n",
       "        text-align: right;\n",
       "    }\n",
       "</style>\n",
       "<table border=\"1\" class=\"dataframe\">\n",
       "  <thead>\n",
       "    <tr style=\"text-align: right;\">\n",
       "      <th></th>\n",
       "      <th>0</th>\n",
       "      <th>1</th>\n",
       "      <th>2</th>\n",
       "      <th>3</th>\n",
       "      <th>4</th>\n",
       "      <th>5</th>\n",
       "      <th>6</th>\n",
       "      <th>7</th>\n",
       "      <th>8</th>\n",
       "      <th>9</th>\n",
       "      <th>10</th>\n",
       "      <th>11</th>\n",
       "      <th>12</th>\n",
       "      <th>13</th>\n",
       "      <th>14</th>\n",
       "      <th>15</th>\n",
       "      <th>16</th>\n",
       "      <th>17</th>\n",
       "      <th>energy</th>\n",
       "      <th>num_occurrences</th>\n",
       "    </tr>\n",
       "  </thead>\n",
       "  <tbody>\n",
       "    <tr>\n",
       "      <th>0</th>\n",
       "      <td>1</td>\n",
       "      <td>1</td>\n",
       "      <td>1</td>\n",
       "      <td>1</td>\n",
       "      <td>1</td>\n",
       "      <td>1</td>\n",
       "      <td>1</td>\n",
       "      <td>1</td>\n",
       "      <td>1</td>\n",
       "      <td>1</td>\n",
       "      <td>1</td>\n",
       "      <td>1</td>\n",
       "      <td>1</td>\n",
       "      <td>1</td>\n",
       "      <td>1</td>\n",
       "      <td>1</td>\n",
       "      <td>1</td>\n",
       "      <td>1</td>\n",
       "      <td>-27.0</td>\n",
       "      <td>1000</td>\n",
       "    </tr>\n",
       "  </tbody>\n",
       "</table>\n",
       "</div>"
      ],
      "text/plain": [
       "   0  1  2  3  4  5  6  7  8  9  10  11  12  13  14  15  16  17  energy  \\\n",
       "0  1  1  1  1  1  1  1  1  1  1   1   1   1   1   1   1   1   1   -27.0   \n",
       "\n",
       "   num_occurrences  \n",
       "0             1000  "
      ]
     },
     "execution_count": 12,
     "metadata": {},
     "output_type": "execute_result"
    }
   ],
   "source": [
    "df = sampleset_graphene.to_pandas_dataframe()\n",
    "df.iloc[:,df.columns != 'chain_break_fraction']\n",
    "#df"
   ]
  },
  {
   "cell_type": "markdown",
   "id": "3f250518",
   "metadata": {},
   "source": [
    "### Visualise the mapping to hardware"
   ]
  },
  {
   "cell_type": "code",
   "execution_count": 13,
   "id": "3cdc1a15",
   "metadata": {},
   "outputs": [
    {
     "data": {
      "text/plain": [
       "'http://127.0.0.1:18000/?problemId=cfbe8a51-8b4f-4e7a-8495-eee609a07803'"
      ]
     },
     "execution_count": 13,
     "metadata": {},
     "output_type": "execute_result"
    }
   ],
   "source": [
    "show(sampleset_graphene)"
   ]
  },
  {
   "cell_type": "markdown",
   "id": "f514b903",
   "metadata": {},
   "source": [
    "### QUBO matrix - Constraints\n",
    "\n",
    "\\begin{equation} \\label{constraint1_1}\n",
    "    \\sum_{i}^{N_{sites}}  x_{i} = N_{atoms}\n",
    "\\end{equation}\n",
    "\n",
    "\\begin{equation} \\label{constraint1_2}\n",
    "    \\sum_{i}^{N_{sites}}  x_{i} - N_{atoms} = 0\n",
    "\\end{equation}\n",
    "\n",
    "\\begin{equation} \\label{constraint1_3}\n",
    "    \\begin{gathered} \n",
    "        \\left(\\sum_{i}^{N_{sites}} x_{i} - N_{atoms}\\right)^{2} = \\\\\n",
    "        \\sum_{i}^{N_{sites}} x_{i}^{2} + \n",
    "        \\sum_{i}^{N_{sites}}\\sum_{j>i}^{N_{sites}} 2 x_{i} x_{j} - \n",
    "        \\sum_{i}^{N_{sites}} 2 x_{i} N_{atoms} +\n",
    "        N_{atoms}^{2} = \\\\\n",
    "        \\sum_{i}^{N_{sites}} \\left(1-2N_{atoms}\\right) x_{i} +\n",
    "        \\sum_{i}^{N_{sites}}\\sum_{j>i}^{N_{sites}} 2 x_{i} x_{j}\n",
    "    \\end{gathered}\n",
    "\\end{equation}"
   ]
  },
  {
   "cell_type": "markdown",
   "id": "dd74f2d9",
   "metadata": {},
   "source": [
    "QUBO model:\n",
    "$$\n",
    "    \\bf{Q}\n",
    "    \\begin{cases}\n",
    "        Q_{i,j} = \\lambda\\left(1-2N_{C}\\right) & \\text{for } i=j \\\\\n",
    "        Q_{i,j} = \\left(2\\lambda - \\alpha A_{i,j}\\right) & \\text{for } j>i \\\\\n",
    "        Q_{i,j} = 0 & \\text{for } j<i\n",
    "    \\end{cases}\n",
    "$$\n",
    "where $\\alpha$ = 1, $\\lambda$ = 2 and $N_{C}$ = 17"
   ]
  },
  {
   "cell_type": "code",
   "execution_count": 14,
   "id": "cdbcc758",
   "metadata": {},
   "outputs": [
    {
     "data": {
      "text/plain": [
       "array([[-93,   6,   6,   6,   6,   6,   6,   6,   6,   5],\n",
       "       [  0, -93,   6,   6,   6,   6,   6,   6,   6,   6],\n",
       "       [  0,   0, -93,   6,   6,   6,   6,   6,   6,   5],\n",
       "       [  0,   0,   0, -93,   6,   6,   6,   6,   6,   5],\n",
       "       [  0,   0,   0,   0, -93,   6,   6,   6,   6,   6],\n",
       "       [  0,   0,   0,   0,   0, -93,   6,   6,   6,   6],\n",
       "       [  0,   0,   0,   0,   0,   0, -93,   6,   6,   6],\n",
       "       [  0,   0,   0,   0,   0,   0,   0, -93,   6,   6],\n",
       "       [  0,   0,   0,   0,   0,   0,   0,   0, -93,   6],\n",
       "       [  0,   0,   0,   0,   0,   0,   0,   0,   0, -93]])"
      ]
     },
     "execution_count": 14,
     "metadata": {},
     "output_type": "execute_result"
    }
   ],
   "source": [
    "alpha = 1\n",
    "Q = np.triu(-adjacency_matrix.astype(int),0)\n",
    "\n",
    "n_vacancies = 2\n",
    "n_atoms = num_sites - n_vacancies\n",
    "\n",
    "gamma = 3\n",
    "\n",
    "for i in range(num_sites):\n",
    "    Q[i,i] += gamma*(1-2*n_atoms)\n",
    "    for j in range(i+1,num_sites):\n",
    "        Q[i,j] += 2*gamma\n",
    "Q[0:10,0:10]"
   ]
  },
  {
   "cell_type": "markdown",
   "id": "3a475c6c",
   "metadata": {},
   "source": [
    "### Run the quantum annealing"
   ]
  },
  {
   "cell_type": "code",
   "execution_count": 15,
   "id": "aa593783",
   "metadata": {},
   "outputs": [],
   "source": [
    "from dwave.system.samplers import DWaveSampler\n",
    "from dwave.system.composites import EmbeddingComposite\n",
    "from dwave.inspector import show\n",
    "\n",
    "sampler = EmbeddingComposite(DWaveSampler())\n",
    "sampleset_graphene = sampler.sample_qubo(Q, num_reads=1000,\n",
    "                               label='Example - Vacancies in graphene')"
   ]
  },
  {
   "cell_type": "code",
   "execution_count": 18,
   "id": "75e99ed3",
   "metadata": {},
   "outputs": [
    {
     "data": {
      "text/html": [
       "<div>\n",
       "<style scoped>\n",
       "    .dataframe tbody tr th:only-of-type {\n",
       "        vertical-align: middle;\n",
       "    }\n",
       "\n",
       "    .dataframe tbody tr th {\n",
       "        vertical-align: top;\n",
       "    }\n",
       "\n",
       "    .dataframe thead th {\n",
       "        text-align: right;\n",
       "    }\n",
       "</style>\n",
       "<table border=\"1\" class=\"dataframe\">\n",
       "  <thead>\n",
       "    <tr style=\"text-align: right;\">\n",
       "      <th></th>\n",
       "      <th>0</th>\n",
       "      <th>1</th>\n",
       "      <th>2</th>\n",
       "      <th>3</th>\n",
       "      <th>4</th>\n",
       "      <th>5</th>\n",
       "      <th>6</th>\n",
       "      <th>7</th>\n",
       "      <th>8</th>\n",
       "      <th>9</th>\n",
       "      <th>...</th>\n",
       "      <th>11</th>\n",
       "      <th>12</th>\n",
       "      <th>13</th>\n",
       "      <th>14</th>\n",
       "      <th>15</th>\n",
       "      <th>16</th>\n",
       "      <th>17</th>\n",
       "      <th>chain_break_fraction</th>\n",
       "      <th>energy</th>\n",
       "      <th>num_occurrences</th>\n",
       "    </tr>\n",
       "  </thead>\n",
       "  <tbody>\n",
       "    <tr>\n",
       "      <th>0</th>\n",
       "      <td>1</td>\n",
       "      <td>0</td>\n",
       "      <td>1</td>\n",
       "      <td>1</td>\n",
       "      <td>1</td>\n",
       "      <td>1</td>\n",
       "      <td>1</td>\n",
       "      <td>1</td>\n",
       "      <td>1</td>\n",
       "      <td>1</td>\n",
       "      <td>...</td>\n",
       "      <td>1</td>\n",
       "      <td>1</td>\n",
       "      <td>1</td>\n",
       "      <td>1</td>\n",
       "      <td>1</td>\n",
       "      <td>0</td>\n",
       "      <td>1</td>\n",
       "      <td>0.000000</td>\n",
       "      <td>-790.0</td>\n",
       "      <td>6</td>\n",
       "    </tr>\n",
       "    <tr>\n",
       "      <th>1</th>\n",
       "      <td>1</td>\n",
       "      <td>1</td>\n",
       "      <td>1</td>\n",
       "      <td>1</td>\n",
       "      <td>1</td>\n",
       "      <td>1</td>\n",
       "      <td>1</td>\n",
       "      <td>0</td>\n",
       "      <td>1</td>\n",
       "      <td>1</td>\n",
       "      <td>...</td>\n",
       "      <td>1</td>\n",
       "      <td>1</td>\n",
       "      <td>1</td>\n",
       "      <td>1</td>\n",
       "      <td>1</td>\n",
       "      <td>0</td>\n",
       "      <td>1</td>\n",
       "      <td>0.000000</td>\n",
       "      <td>-790.0</td>\n",
       "      <td>3</td>\n",
       "    </tr>\n",
       "    <tr>\n",
       "      <th>2</th>\n",
       "      <td>1</td>\n",
       "      <td>1</td>\n",
       "      <td>1</td>\n",
       "      <td>1</td>\n",
       "      <td>1</td>\n",
       "      <td>1</td>\n",
       "      <td>0</td>\n",
       "      <td>1</td>\n",
       "      <td>1</td>\n",
       "      <td>1</td>\n",
       "      <td>...</td>\n",
       "      <td>1</td>\n",
       "      <td>1</td>\n",
       "      <td>1</td>\n",
       "      <td>1</td>\n",
       "      <td>1</td>\n",
       "      <td>0</td>\n",
       "      <td>1</td>\n",
       "      <td>0.000000</td>\n",
       "      <td>-790.0</td>\n",
       "      <td>6</td>\n",
       "    </tr>\n",
       "    <tr>\n",
       "      <th>3</th>\n",
       "      <td>1</td>\n",
       "      <td>1</td>\n",
       "      <td>1</td>\n",
       "      <td>1</td>\n",
       "      <td>0</td>\n",
       "      <td>1</td>\n",
       "      <td>1</td>\n",
       "      <td>1</td>\n",
       "      <td>1</td>\n",
       "      <td>1</td>\n",
       "      <td>...</td>\n",
       "      <td>1</td>\n",
       "      <td>1</td>\n",
       "      <td>1</td>\n",
       "      <td>1</td>\n",
       "      <td>1</td>\n",
       "      <td>1</td>\n",
       "      <td>1</td>\n",
       "      <td>0.000000</td>\n",
       "      <td>-790.0</td>\n",
       "      <td>3</td>\n",
       "    </tr>\n",
       "    <tr>\n",
       "      <th>4</th>\n",
       "      <td>0</td>\n",
       "      <td>1</td>\n",
       "      <td>1</td>\n",
       "      <td>1</td>\n",
       "      <td>1</td>\n",
       "      <td>1</td>\n",
       "      <td>1</td>\n",
       "      <td>1</td>\n",
       "      <td>1</td>\n",
       "      <td>1</td>\n",
       "      <td>...</td>\n",
       "      <td>1</td>\n",
       "      <td>1</td>\n",
       "      <td>1</td>\n",
       "      <td>1</td>\n",
       "      <td>1</td>\n",
       "      <td>1</td>\n",
       "      <td>1</td>\n",
       "      <td>0.000000</td>\n",
       "      <td>-790.0</td>\n",
       "      <td>6</td>\n",
       "    </tr>\n",
       "    <tr>\n",
       "      <th>...</th>\n",
       "      <td>...</td>\n",
       "      <td>...</td>\n",
       "      <td>...</td>\n",
       "      <td>...</td>\n",
       "      <td>...</td>\n",
       "      <td>...</td>\n",
       "      <td>...</td>\n",
       "      <td>...</td>\n",
       "      <td>...</td>\n",
       "      <td>...</td>\n",
       "      <td>...</td>\n",
       "      <td>...</td>\n",
       "      <td>...</td>\n",
       "      <td>...</td>\n",
       "      <td>...</td>\n",
       "      <td>...</td>\n",
       "      <td>...</td>\n",
       "      <td>...</td>\n",
       "      <td>...</td>\n",
       "      <td>...</td>\n",
       "      <td>...</td>\n",
       "    </tr>\n",
       "    <tr>\n",
       "      <th>461</th>\n",
       "      <td>0</td>\n",
       "      <td>1</td>\n",
       "      <td>1</td>\n",
       "      <td>0</td>\n",
       "      <td>1</td>\n",
       "      <td>1</td>\n",
       "      <td>1</td>\n",
       "      <td>1</td>\n",
       "      <td>1</td>\n",
       "      <td>0</td>\n",
       "      <td>...</td>\n",
       "      <td>1</td>\n",
       "      <td>1</td>\n",
       "      <td>1</td>\n",
       "      <td>1</td>\n",
       "      <td>1</td>\n",
       "      <td>1</td>\n",
       "      <td>1</td>\n",
       "      <td>0.055556</td>\n",
       "      <td>-785.0</td>\n",
       "      <td>1</td>\n",
       "    </tr>\n",
       "    <tr>\n",
       "      <th>462</th>\n",
       "      <td>1</td>\n",
       "      <td>1</td>\n",
       "      <td>1</td>\n",
       "      <td>1</td>\n",
       "      <td>1</td>\n",
       "      <td>1</td>\n",
       "      <td>0</td>\n",
       "      <td>0</td>\n",
       "      <td>1</td>\n",
       "      <td>1</td>\n",
       "      <td>...</td>\n",
       "      <td>1</td>\n",
       "      <td>1</td>\n",
       "      <td>1</td>\n",
       "      <td>1</td>\n",
       "      <td>0</td>\n",
       "      <td>1</td>\n",
       "      <td>1</td>\n",
       "      <td>0.055556</td>\n",
       "      <td>-784.0</td>\n",
       "      <td>1</td>\n",
       "    </tr>\n",
       "    <tr>\n",
       "      <th>463</th>\n",
       "      <td>1</td>\n",
       "      <td>1</td>\n",
       "      <td>1</td>\n",
       "      <td>1</td>\n",
       "      <td>1</td>\n",
       "      <td>1</td>\n",
       "      <td>1</td>\n",
       "      <td>1</td>\n",
       "      <td>1</td>\n",
       "      <td>1</td>\n",
       "      <td>...</td>\n",
       "      <td>0</td>\n",
       "      <td>1</td>\n",
       "      <td>0</td>\n",
       "      <td>1</td>\n",
       "      <td>1</td>\n",
       "      <td>1</td>\n",
       "      <td>1</td>\n",
       "      <td>0.055556</td>\n",
       "      <td>-783.0</td>\n",
       "      <td>1</td>\n",
       "    </tr>\n",
       "    <tr>\n",
       "      <th>464</th>\n",
       "      <td>1</td>\n",
       "      <td>1</td>\n",
       "      <td>1</td>\n",
       "      <td>1</td>\n",
       "      <td>1</td>\n",
       "      <td>1</td>\n",
       "      <td>0</td>\n",
       "      <td>1</td>\n",
       "      <td>1</td>\n",
       "      <td>1</td>\n",
       "      <td>...</td>\n",
       "      <td>1</td>\n",
       "      <td>0</td>\n",
       "      <td>1</td>\n",
       "      <td>1</td>\n",
       "      <td>0</td>\n",
       "      <td>1</td>\n",
       "      <td>1</td>\n",
       "      <td>0.055556</td>\n",
       "      <td>-785.0</td>\n",
       "      <td>1</td>\n",
       "    </tr>\n",
       "    <tr>\n",
       "      <th>465</th>\n",
       "      <td>1</td>\n",
       "      <td>1</td>\n",
       "      <td>1</td>\n",
       "      <td>0</td>\n",
       "      <td>1</td>\n",
       "      <td>1</td>\n",
       "      <td>1</td>\n",
       "      <td>1</td>\n",
       "      <td>1</td>\n",
       "      <td>1</td>\n",
       "      <td>...</td>\n",
       "      <td>0</td>\n",
       "      <td>1</td>\n",
       "      <td>1</td>\n",
       "      <td>0</td>\n",
       "      <td>0</td>\n",
       "      <td>1</td>\n",
       "      <td>1</td>\n",
       "      <td>0.055556</td>\n",
       "      <td>-771.0</td>\n",
       "      <td>1</td>\n",
       "    </tr>\n",
       "  </tbody>\n",
       "</table>\n",
       "<p>466 rows × 21 columns</p>\n",
       "</div>"
      ],
      "text/plain": [
       "     0  1  2  3  4  5  6  7  8  9  ...  11  12  13  14  15  16  17  \\\n",
       "0    1  0  1  1  1  1  1  1  1  1  ...   1   1   1   1   1   0   1   \n",
       "1    1  1  1  1  1  1  1  0  1  1  ...   1   1   1   1   1   0   1   \n",
       "2    1  1  1  1  1  1  0  1  1  1  ...   1   1   1   1   1   0   1   \n",
       "3    1  1  1  1  0  1  1  1  1  1  ...   1   1   1   1   1   1   1   \n",
       "4    0  1  1  1  1  1  1  1  1  1  ...   1   1   1   1   1   1   1   \n",
       "..  .. .. .. .. .. .. .. .. .. ..  ...  ..  ..  ..  ..  ..  ..  ..   \n",
       "461  0  1  1  0  1  1  1  1  1  0  ...   1   1   1   1   1   1   1   \n",
       "462  1  1  1  1  1  1  0  0  1  1  ...   1   1   1   1   0   1   1   \n",
       "463  1  1  1  1  1  1  1  1  1  1  ...   0   1   0   1   1   1   1   \n",
       "464  1  1  1  1  1  1  0  1  1  1  ...   1   0   1   1   0   1   1   \n",
       "465  1  1  1  0  1  1  1  1  1  1  ...   0   1   1   0   0   1   1   \n",
       "\n",
       "     chain_break_fraction  energy  num_occurrences  \n",
       "0                0.000000  -790.0                6  \n",
       "1                0.000000  -790.0                3  \n",
       "2                0.000000  -790.0                6  \n",
       "3                0.000000  -790.0                3  \n",
       "4                0.000000  -790.0                6  \n",
       "..                    ...     ...              ...  \n",
       "461              0.055556  -785.0                1  \n",
       "462              0.055556  -784.0                1  \n",
       "463              0.055556  -783.0                1  \n",
       "464              0.055556  -785.0                1  \n",
       "465              0.055556  -771.0                1  \n",
       "\n",
       "[466 rows x 21 columns]"
      ]
     },
     "execution_count": 18,
     "metadata": {},
     "output_type": "execute_result"
    }
   ],
   "source": [
    "df = sampleset_graphene.to_pandas_dataframe()\n",
    "df#.iloc[:,df.columns != 'chain_break_fraction']"
   ]
  },
  {
   "cell_type": "markdown",
   "id": "d106624f",
   "metadata": {},
   "source": [
    "### Visualise the mapping to hardware"
   ]
  },
  {
   "cell_type": "code",
   "execution_count": 17,
   "id": "b82e0619",
   "metadata": {
    "scrolled": true
   },
   "outputs": [
    {
     "data": {
      "text/plain": [
       "'http://127.0.0.1:18000/?problemId=297b61b2-ba6a-490e-82e6-939a8c6f502f'"
      ]
     },
     "execution_count": 17,
     "metadata": {},
     "output_type": "execute_result"
    }
   ],
   "source": [
    "show(sampleset_graphene)"
   ]
  },
  {
   "cell_type": "markdown",
   "id": "cf659c47",
   "metadata": {},
   "source": [
    "### Postprocessing"
   ]
  },
  {
   "cell_type": "markdown",
   "id": "d3c0732f",
   "metadata": {},
   "source": [
    "#### Remove the results that don't respect the contraint + Symmetry analysis"
   ]
  },
  {
   "cell_type": "code",
   "execution_count": 18,
   "id": "08ec8ba0",
   "metadata": {},
   "outputs": [
    {
     "data": {
      "text/html": [
       "<div>\n",
       "<style scoped>\n",
       "    .dataframe tbody tr th:only-of-type {\n",
       "        vertical-align: middle;\n",
       "    }\n",
       "\n",
       "    .dataframe tbody tr th {\n",
       "        vertical-align: top;\n",
       "    }\n",
       "\n",
       "    .dataframe thead th {\n",
       "        text-align: right;\n",
       "    }\n",
       "</style>\n",
       "<table border=\"1\" class=\"dataframe\">\n",
       "  <thead>\n",
       "    <tr style=\"text-align: right;\">\n",
       "      <th></th>\n",
       "      <th>0</th>\n",
       "      <th>1</th>\n",
       "      <th>2</th>\n",
       "      <th>3</th>\n",
       "      <th>4</th>\n",
       "      <th>5</th>\n",
       "      <th>6</th>\n",
       "      <th>7</th>\n",
       "      <th>8</th>\n",
       "      <th>9</th>\n",
       "      <th>10</th>\n",
       "      <th>11</th>\n",
       "      <th>12</th>\n",
       "      <th>13</th>\n",
       "      <th>14</th>\n",
       "      <th>15</th>\n",
       "      <th>16</th>\n",
       "      <th>17</th>\n",
       "      <th>Energy</th>\n",
       "      <th>% occurence</th>\n",
       "    </tr>\n",
       "  </thead>\n",
       "  <tbody>\n",
       "    <tr>\n",
       "      <th>a</th>\n",
       "      <td>0</td>\n",
       "      <td>1</td>\n",
       "      <td>1</td>\n",
       "      <td>1</td>\n",
       "      <td>1</td>\n",
       "      <td>1</td>\n",
       "      <td>1</td>\n",
       "      <td>1</td>\n",
       "      <td>1</td>\n",
       "      <td>0</td>\n",
       "      <td>1</td>\n",
       "      <td>1</td>\n",
       "      <td>1</td>\n",
       "      <td>1</td>\n",
       "      <td>1</td>\n",
       "      <td>1</td>\n",
       "      <td>1</td>\n",
       "      <td>1</td>\n",
       "      <td>-790.0</td>\n",
       "      <td>16.8</td>\n",
       "    </tr>\n",
       "    <tr>\n",
       "      <th>b</th>\n",
       "      <td>0</td>\n",
       "      <td>0</td>\n",
       "      <td>1</td>\n",
       "      <td>1</td>\n",
       "      <td>1</td>\n",
       "      <td>1</td>\n",
       "      <td>1</td>\n",
       "      <td>1</td>\n",
       "      <td>1</td>\n",
       "      <td>1</td>\n",
       "      <td>1</td>\n",
       "      <td>1</td>\n",
       "      <td>1</td>\n",
       "      <td>1</td>\n",
       "      <td>1</td>\n",
       "      <td>1</td>\n",
       "      <td>1</td>\n",
       "      <td>1</td>\n",
       "      <td>-789.0</td>\n",
       "      <td>20.4</td>\n",
       "    </tr>\n",
       "    <tr>\n",
       "      <th>c</th>\n",
       "      <td>0</td>\n",
       "      <td>1</td>\n",
       "      <td>1</td>\n",
       "      <td>1</td>\n",
       "      <td>1</td>\n",
       "      <td>0</td>\n",
       "      <td>1</td>\n",
       "      <td>1</td>\n",
       "      <td>1</td>\n",
       "      <td>1</td>\n",
       "      <td>1</td>\n",
       "      <td>1</td>\n",
       "      <td>1</td>\n",
       "      <td>1</td>\n",
       "      <td>1</td>\n",
       "      <td>1</td>\n",
       "      <td>1</td>\n",
       "      <td>1</td>\n",
       "      <td>-789.0</td>\n",
       "      <td>7.9</td>\n",
       "    </tr>\n",
       "    <tr>\n",
       "      <th>d</th>\n",
       "      <td>0</td>\n",
       "      <td>1</td>\n",
       "      <td>1</td>\n",
       "      <td>1</td>\n",
       "      <td>1</td>\n",
       "      <td>1</td>\n",
       "      <td>1</td>\n",
       "      <td>1</td>\n",
       "      <td>1</td>\n",
       "      <td>1</td>\n",
       "      <td>1</td>\n",
       "      <td>0</td>\n",
       "      <td>1</td>\n",
       "      <td>1</td>\n",
       "      <td>1</td>\n",
       "      <td>1</td>\n",
       "      <td>1</td>\n",
       "      <td>1</td>\n",
       "      <td>-789.0</td>\n",
       "      <td>13.7</td>\n",
       "    </tr>\n",
       "    <tr>\n",
       "      <th>e</th>\n",
       "      <td>1</td>\n",
       "      <td>0</td>\n",
       "      <td>1</td>\n",
       "      <td>1</td>\n",
       "      <td>1</td>\n",
       "      <td>1</td>\n",
       "      <td>1</td>\n",
       "      <td>1</td>\n",
       "      <td>1</td>\n",
       "      <td>1</td>\n",
       "      <td>1</td>\n",
       "      <td>1</td>\n",
       "      <td>1</td>\n",
       "      <td>1</td>\n",
       "      <td>1</td>\n",
       "      <td>1</td>\n",
       "      <td>1</td>\n",
       "      <td>0</td>\n",
       "      <td>-789.0</td>\n",
       "      <td>2.4</td>\n",
       "    </tr>\n",
       "  </tbody>\n",
       "</table>\n",
       "</div>"
      ],
      "text/plain": [
       "   0  1  2  3  4  5  6  7  8  9  10  11  12  13  14  15  16  17  Energy  \\\n",
       "a  0  1  1  1  1  1  1  1  1  0   1   1   1   1   1   1   1   1  -790.0   \n",
       "b  0  0  1  1  1  1  1  1  1  1   1   1   1   1   1   1   1   1  -789.0   \n",
       "c  0  1  1  1  1  0  1  1  1  1   1   1   1   1   1   1   1   1  -789.0   \n",
       "d  0  1  1  1  1  1  1  1  1  1   1   0   1   1   1   1   1   1  -789.0   \n",
       "e  1  0  1  1  1  1  1  1  1  1   1   1   1   1   1   1   1   0  -789.0   \n",
       "\n",
       "   % occurence  \n",
       "a         16.8  \n",
       "b         20.4  \n",
       "c          7.9  \n",
       "d         13.7  \n",
       "e          2.4  "
      ]
     },
     "execution_count": 18,
     "metadata": {},
     "output_type": "execute_result"
    }
   ],
   "source": [
    "df_2_symm = make_df_tutorial(df,num_vacancies=n_vacancies,symmetrised=True,\n",
    "                             structure=graphene_supercell,num_runs=1)\n",
    "df_2_symm.iloc[:,df_2_symm.columns != '% broken chains']"
   ]
  },
  {
   "cell_type": "code",
   "execution_count": 16,
   "id": "5ae07a27",
   "metadata": {},
   "outputs": [],
   "source": [
    "def make_df_tutorial(dataframe,num_vacancies,symmetrised=False,structure=None,num_runs=1):\n",
    "    \n",
    "    import copy\n",
    "    import string\n",
    "    import sys\n",
    "    sys.path.insert(1,'../quantum_computing/')\n",
    "    from quantum_computing_postprocessing import find_symmetry_equivalent_structures\n",
    "    \n",
    "    df = dataframe\n",
    "    \n",
    "    num_atoms = sum([type(x) == int for x in df.columns])    \n",
    "    all_config = df.iloc[:,0:num_atoms].to_numpy()\n",
    "    multiplicity = df['num_occurrences'].to_numpy()\n",
    "    sum_vector = np.sum(all_config,axis=1)\n",
    "    feasible_config = np.where(np.round(sum_vector,5) == np.round((num_atoms - num_vacancies),5))[0]\n",
    "    config =  np.array(df.iloc[feasible_config].to_numpy()[:,0:num_atoms],dtype=int)\n",
    "    chain_break = np.array(df.iloc[feasible_config].to_numpy()[:,num_atoms])\n",
    "    unique_config = np.unique(config,axis=0)\n",
    "\n",
    "    chain_break_average = []\n",
    "    energy_average = []\n",
    "    num_occurences_average = []\n",
    "    for c in unique_config:\n",
    "        feasible = feasible_config[np.where((config == c).all(axis=1))[0]]\n",
    "        broken = df.iloc[feasible,18].to_numpy()\n",
    "        weights = df.iloc[feasible,20].to_numpy()\n",
    "        #print(c,broken,weights)\n",
    "        #chain_break_average.append(np.average(df.iloc[feasible_config[np.where((config == c).all(axis=1))[0]]]['chain_break_fraction'].to_numpy()))\n",
    "        chain_break_average.append(np.average(broken,weights=weights))\n",
    "        energy_average.append(np.average(df.iloc[feasible_config[np.where((config == c).all(axis=1))[0]]]['energy'].to_numpy()))\n",
    "        num_occurences_average.append(np.sum(df.iloc[feasible_config[np.where((config == c).all(axis=1))[0]]]['num_occurrences'].to_numpy())/(num_runs))\n",
    "    #chain_break_average\n",
    "        #print(c,'\\n',df.iloc[feasible_config[np.where((config == c).all(axis=1))[0]]]['num_occurrences'].to_numpy())\n",
    "        #print(df.iloc[feasible_config[np.where((config == c).all(axis=1))[0]]]['chain_break_fraction'].to_numpy())\n",
    "        \n",
    "\n",
    "    df = pd.DataFrame(unique_config, columns=[str(x) for x in np.arange(num_atoms,dtype=int)])\n",
    "    df['chain_break_fraction'] = np.round(chain_break_average,3)\n",
    "    df['energy'] = energy_average\n",
    "    df['num_occurrences'] = num_occurences_average\n",
    "    \n",
    "     \n",
    "    if symmetrised == True and structure != None:\n",
    "        \n",
    "        structure_tmp = copy.deepcopy(structure)\n",
    "        #df = find_symmetry_equivalent_structures(df[df['energy'] == -24.],structure_tmp)\n",
    "        df = find_symmetry_equivalent_structures(df,structure_tmp)\n",
    "    \n",
    "    df.sort_values(by=['energy'], inplace=True)\n",
    "    df['chain_break_fraction'] = np.round(df['chain_break_fraction'].to_numpy(),5)\n",
    "    df['chain_break_fraction'] = df['chain_break_fraction'].apply(lambda x: x*100)\n",
    "    df['num_occurrences'] = df['num_occurrences'].apply(lambda x: x/10)\n",
    "    df = df.rename(columns={\"chain_break_fraction\": \"% broken chains\", \"energy\": \"Energy\", \"num_occurrences\":\"% occurence\"})\n",
    "    df.index = list(string.ascii_lowercase[0:len(df.index)])\n",
    "    \n",
    "    return df"
   ]
  },
  {
   "cell_type": "markdown",
   "id": "ae890534",
   "metadata": {},
   "source": [
    "## The model"
   ]
  },
  {
   "cell_type": "markdown",
   "id": "d55a000b",
   "metadata": {},
   "source": [
    "In this tutorial, we are going to use a simple model to calculate the energy of vacancies in graphene.\n",
    "\n",
    "**The material**\n",
    "\n",
    "The chemical system we are going to study is a graphene sheet. In order to be able to calculate the energy of up to three vacancies, we are going to use a 3x3 supercell of the primitive cell.\n",
    "\n",
    "Let's first build the system. For this task we are going to be using a python library called pymatgen. pymatgen is a very powerful tool developed as part of the Materials Project. It can be used to create, modify, analyse 3D systems. Don't worry if you are not familiar with pymatgen, we are only going to use it to generate the structure and every step is explained.\n",
    "\n",
    "First we need to import the two objects that we are going to use to generate the graphene structure, which is called Structure:"
   ]
  },
  {
   "cell_type": "code",
   "execution_count": 4,
   "id": "ed681f04",
   "metadata": {},
   "outputs": [],
   "source": [
    "from pymatgen.core.structure import Structure"
   ]
  },
  {
   "cell_type": "markdown",
   "id": "9dfa8d9b",
   "metadata": {},
   "source": [
    "We are going to use numpy to define the lattice as a 3x3 matrix:"
   ]
  },
  {
   "cell_type": "code",
   "execution_count": 2,
   "id": "889f0e47",
   "metadata": {},
   "outputs": [],
   "source": [
    "import numpy as np\n",
    "\n",
    "lattice = np.array([[ 1.233862, -2.137112,  0.      ],\n",
    "                   [ 1.233862,  2.137112,  0.      ],\n",
    "                   [ 0.      ,  0.      ,  8.685038]])"
   ]
  },
  {
   "cell_type": "markdown",
   "id": "1a95ae9a",
   "metadata": {},
   "source": [
    "The Structure object requires three pieces on informations: the lattice, the species and the fractional coordinates of these species in the cell defined by lattice. So, we are going to create and inspect what information is in the graphene object by displaying it."
   ]
  },
  {
   "cell_type": "code",
   "execution_count": 5,
   "id": "5729126d",
   "metadata": {},
   "outputs": [
    {
     "data": {
      "text/plain": [
       "Structure Summary\n",
       "Lattice\n",
       "    abc : 2.4677242827325747 2.4677242827325747 8.685038\n",
       " angles : 90.0 90.0 120.00000758003493\n",
       " volume : 45.80317575176706\n",
       "      A : 1.233862 -2.137112 0.0\n",
       "      B : 1.233862 2.137112 0.0\n",
       "      C : 0.0 0.0 8.685038\n",
       "PeriodicSite: C (1.2339, -0.7124, 0.0000) [0.6667, 0.3333, 0.0000]\n",
       "PeriodicSite: C (1.2339, 0.7124, 0.0000) [0.3333, 0.6667, 0.0000]"
      ]
     },
     "metadata": {},
     "output_type": "display_data"
    }
   ],
   "source": [
    "graphene = Structure(lattice, species=['C','C'], coords=[[2/3, 1/3, 0. ],[1/3, 2/3, 0.]])\n",
    "display(graphene)"
   ]
  },
  {
   "cell_type": "markdown",
   "id": "947d0d15",
   "metadata": {},
   "source": [
    "The supercell can be created by using the pymatgen make_supercell function. First we need to define the expansion matrix:"
   ]
  },
  {
   "cell_type": "code",
   "execution_count": 6,
   "id": "14044e85",
   "metadata": {},
   "outputs": [
    {
     "data": {
      "text/plain": [
       "Structure Summary\n",
       "Lattice\n",
       "    abc : 7.403172848197724 7.403172848197724 8.685038\n",
       " angles : 90.0 90.0 120.00000758003493\n",
       " volume : 412.2285817659035\n",
       "      A : 3.701586 -6.411336 0.0\n",
       "      B : 3.701586 6.411336 0.0\n",
       "      C : 0.0 0.0 8.685038\n",
       "PeriodicSite: C (1.2339, -0.7124, 0.0000) [0.2222, 0.1111, 0.0000]\n",
       "PeriodicSite: C (2.4677, 1.4247, 0.0000) [0.2222, 0.4444, 0.0000]\n",
       "PeriodicSite: C (3.7016, 3.5619, 0.0000) [0.2222, 0.7778, 0.0000]\n",
       "PeriodicSite: C (2.4677, -2.8495, 0.0000) [0.5556, 0.1111, 0.0000]\n",
       "PeriodicSite: C (3.7016, -0.7124, 0.0000) [0.5556, 0.4444, 0.0000]\n",
       "PeriodicSite: C (4.9354, 1.4247, 0.0000) [0.5556, 0.7778, 0.0000]\n",
       "PeriodicSite: C (3.7016, -4.9866, 0.0000) [0.8889, 0.1111, 0.0000]\n",
       "PeriodicSite: C (4.9354, -2.8495, 0.0000) [0.8889, 0.4444, 0.0000]\n",
       "PeriodicSite: C (6.1693, -0.7124, 0.0000) [0.8889, 0.7778, 0.0000]\n",
       "PeriodicSite: C (1.2339, 0.7124, 0.0000) [0.1111, 0.2222, 0.0000]\n",
       "PeriodicSite: C (2.4677, 2.8495, 0.0000) [0.1111, 0.5556, 0.0000]\n",
       "PeriodicSite: C (3.7016, 4.9866, 0.0000) [0.1111, 0.8889, 0.0000]\n",
       "PeriodicSite: C (2.4677, -1.4247, 0.0000) [0.4444, 0.2222, 0.0000]\n",
       "PeriodicSite: C (3.7016, 0.7124, 0.0000) [0.4444, 0.5556, 0.0000]\n",
       "PeriodicSite: C (4.9354, 2.8495, 0.0000) [0.4444, 0.8889, 0.0000]\n",
       "PeriodicSite: C (3.7016, -3.5619, 0.0000) [0.7778, 0.2222, 0.0000]\n",
       "PeriodicSite: C (4.9354, -1.4247, 0.0000) [0.7778, 0.5556, 0.0000]\n",
       "PeriodicSite: C (6.1693, 0.7124, 0.0000) [0.7778, 0.8889, 0.0000]"
      ]
     },
     "metadata": {},
     "output_type": "display_data"
    }
   ],
   "source": [
    "import copy \n",
    "\n",
    "expansion_matrix = np.array([[3, 0, 0],\n",
    "                            [0, 3, 0],\n",
    "                            [0, 0, 1]])\n",
    "\n",
    "graphene_supercell = copy.deepcopy(graphene)\n",
    "\n",
    "graphene_supercell.make_supercell(expansion_matrix)\n",
    "\n",
    "display(graphene_supercell)"
   ]
  },
  {
   "cell_type": "markdown",
   "id": "7658708e",
   "metadata": {},
   "source": [
    "Please find below an image of the supercell where the atom index has been reported on the atom itself.\n",
    "\n",
    "[graphene_primitive_cell](images/graphene_primitive_cell.png)\n",
    "\n",
    "As a note for non experts in materials science, the cell reported here has 2-dimensional periodicity, also called periodic boundary conditions. This means it is repeated periodically, effectively representing an infinite graphene sheet. The image below shows a 3x3 supercell of the graphene supercell used in this notebook. \n",
    "\n",
    "[graphene_super_cell](images/graphene_super_cell.png)\n",
    "\n",
    "This is going to become relevant later in the definition of the model."
   ]
  },
  {
   "cell_type": "markdown",
   "id": "f3abf757",
   "metadata": {},
   "source": [
    "From the graphene_supercell structure displayed above, you can see the structure now containins 18 atoms and the lattice parameters a and b are three times as large as the primitive cell ones."
   ]
  },
  {
   "cell_type": "markdown",
   "id": "6fac18d7",
   "metadata": {},
   "source": [
    "Now, let's start defining the vectors and matrices that we will use to represent the system.\n",
    "First we are going to create the vector **c**. This is the vector that we are going to use to identify atom positions in the system. It will contain, therefore, numbers from 0 to the total number of atoms:"
   ]
  },
  {
   "cell_type": "code",
   "execution_count": 7,
   "id": "7c26ee2f",
   "metadata": {},
   "outputs": [
    {
     "data": {
      "text/plain": [
       "array([ 0,  1,  2,  3,  4,  5,  6,  7,  8,  9, 10, 11, 12, 13, 14, 15, 16,\n",
       "       17])"
      ]
     },
     "metadata": {},
     "output_type": "display_data"
    }
   ],
   "source": [
    "c = np.arange(graphene_supercell.num_sites)\n",
    "display(c)"
   ]
  },
  {
   "cell_type": "markdown",
   "id": "175c9b18",
   "metadata": {},
   "source": [
    "To do so, we used the numpy arange function and the num_sites attribute of the graphene_supercell Structure object to define the upper bound.\n",
    "\n",
    "We are also going to define the vector **x**. This is a binary vector where:\n",
    "- $x_{i}$ = 1 if atom i is present\n",
    "- $x_{i}$ = 0 if atom i has been replaced by a vacancy\n",
    "\n",
    "At first we are going to define the structure containing no vacancies, so $x_{i}$ = 1 for all $i$"
   ]
  },
  {
   "cell_type": "code",
   "execution_count": 8,
   "id": "27151a4f",
   "metadata": {},
   "outputs": [
    {
     "data": {
      "text/plain": [
       "array([1, 1, 1, 1, 1, 1, 1, 1, 1, 1, 1, 1, 1, 1, 1, 1, 1, 1])"
      ]
     },
     "metadata": {},
     "output_type": "display_data"
    }
   ],
   "source": [
    "x = np.array([1]*graphene_supercell.num_sites)\n",
    "display(x)"
   ]
  },
  {
   "cell_type": "markdown",
   "id": "4dc75146",
   "metadata": {},
   "source": [
    "Because in the model we are using, the energy depends on the number of bonds, we need a way to identify bonded atoms. To do so, we are going to start with the distance_matrix, which is a property of the graphene_supercell object:"
   ]
  },
  {
   "cell_type": "code",
   "execution_count": 12,
   "id": "bdf92c71",
   "metadata": {},
   "outputs": [
    {
     "data": {
      "text/plain": [
       "array([[0.        , 2.46772428, 2.46772428, 2.46772428, 2.467724  ,\n",
       "        4.27422351, 2.46772428, 4.27422351, 2.467724  , 1.42474133,\n",
       "        3.769511  , 1.42474117, 1.42474117, 2.84948234, 2.84948267,\n",
       "        3.769511  , 3.7695107 , 2.84948234],\n",
       "       [2.46772428, 0.        , 2.46772428, 4.27422351, 2.46772428,\n",
       "        2.467724  , 2.467724  , 2.46772428, 4.27422351, 1.42474117,\n",
       "        1.42474133, 3.769511  , 2.84948267, 1.42474117, 2.84948234,\n",
       "        2.84948234, 3.769511  , 3.7695107 ],\n",
       "       [2.46772428, 2.46772428, 0.        , 2.467724  , 4.27422351,\n",
       "        2.46772428, 4.27422351, 2.467724  , 2.46772428, 3.769511  ,\n",
       "        1.42474117, 1.42474133, 2.84948234, 2.84948267, 1.42474117,\n",
       "        3.7695107 , 2.84948234, 3.769511  ],\n",
       "       [2.46772428, 4.27422351, 2.467724  , 0.        , 2.46772428,\n",
       "        2.46772428, 2.46772428, 2.467724  , 4.27422351, 3.769511  ,\n",
       "        3.7695107 , 2.84948234, 1.42474133, 3.769511  , 1.42474117,\n",
       "        1.42474117, 2.84948234, 2.84948267],\n",
       "       [2.467724  , 2.46772428, 4.27422351, 2.46772428, 0.        ,\n",
       "        2.46772428, 4.27422351, 2.46772428, 2.467724  , 2.84948234,\n",
       "        3.769511  , 3.7695107 , 1.42474117, 1.42474133, 3.769511  ,\n",
       "        2.84948267, 1.42474117, 2.84948234],\n",
       "       [4.27422351, 2.467724  , 2.46772428, 2.46772428, 2.46772428,\n",
       "        0.        , 2.467724  , 4.27422351, 2.46772428, 3.7695107 ,\n",
       "        2.84948234, 3.769511  , 3.769511  , 1.42474117, 1.42474133,\n",
       "        2.84948234, 2.84948267, 1.42474117],\n",
       "       [2.46772428, 2.467724  , 4.27422351, 2.46772428, 4.27422351,\n",
       "        2.467724  , 0.        , 2.46772428, 2.46772428, 1.42474117,\n",
       "        2.84948234, 2.84948267, 3.769511  , 3.7695107 , 2.84948234,\n",
       "        1.42474133, 3.769511  , 1.42474117],\n",
       "       [4.27422351, 2.46772428, 2.467724  , 2.467724  , 2.46772428,\n",
       "        4.27422351, 2.46772428, 0.        , 2.46772428, 2.84948267,\n",
       "        1.42474117, 2.84948234, 2.84948234, 3.769511  , 3.7695107 ,\n",
       "        1.42474117, 1.42474133, 3.769511  ],\n",
       "       [2.467724  , 4.27422351, 2.46772428, 4.27422351, 2.467724  ,\n",
       "        2.46772428, 2.46772428, 2.46772428, 0.        , 2.84948234,\n",
       "        2.84948267, 1.42474117, 3.7695107 , 2.84948234, 3.769511  ,\n",
       "        3.769511  , 1.42474117, 1.42474133],\n",
       "       [1.42474133, 1.42474117, 3.769511  , 3.769511  , 2.84948234,\n",
       "        3.7695107 , 1.42474117, 2.84948267, 2.84948234, 0.        ,\n",
       "        2.46772428, 2.46772428, 2.46772428, 2.467724  , 4.27422351,\n",
       "        2.46772428, 4.27422351, 2.467724  ],\n",
       "       [3.769511  , 1.42474133, 1.42474117, 3.7695107 , 3.769511  ,\n",
       "        2.84948234, 2.84948234, 1.42474117, 2.84948267, 2.46772428,\n",
       "        0.        , 2.46772428, 4.27422351, 2.46772428, 2.467724  ,\n",
       "        2.467724  , 2.46772428, 4.27422351],\n",
       "       [1.42474117, 3.769511  , 1.42474133, 2.84948234, 3.7695107 ,\n",
       "        3.769511  , 2.84948267, 2.84948234, 1.42474117, 2.46772428,\n",
       "        2.46772428, 0.        , 2.467724  , 4.27422351, 2.46772428,\n",
       "        4.27422351, 2.467724  , 2.46772428],\n",
       "       [1.42474117, 2.84948267, 2.84948234, 1.42474133, 1.42474117,\n",
       "        3.769511  , 3.769511  , 2.84948234, 3.7695107 , 2.46772428,\n",
       "        4.27422351, 2.467724  , 0.        , 2.46772428, 2.46772428,\n",
       "        2.46772428, 2.467724  , 4.27422351],\n",
       "       [2.84948234, 1.42474117, 2.84948267, 3.769511  , 1.42474133,\n",
       "        1.42474117, 3.7695107 , 3.769511  , 2.84948234, 2.467724  ,\n",
       "        2.46772428, 4.27422351, 2.46772428, 0.        , 2.46772428,\n",
       "        4.27422351, 2.46772428, 2.467724  ],\n",
       "       [2.84948267, 2.84948234, 1.42474117, 1.42474117, 3.769511  ,\n",
       "        1.42474133, 2.84948234, 3.7695107 , 3.769511  , 4.27422351,\n",
       "        2.467724  , 2.46772428, 2.46772428, 2.46772428, 0.        ,\n",
       "        2.467724  , 4.27422351, 2.46772428],\n",
       "       [3.769511  , 2.84948234, 3.7695107 , 1.42474117, 2.84948267,\n",
       "        2.84948234, 1.42474133, 1.42474117, 3.769511  , 2.46772428,\n",
       "        2.467724  , 4.27422351, 2.46772428, 4.27422351, 2.467724  ,\n",
       "        0.        , 2.46772428, 2.46772428],\n",
       "       [3.7695107 , 3.769511  , 2.84948234, 2.84948234, 1.42474117,\n",
       "        2.84948267, 3.769511  , 1.42474133, 1.42474117, 4.27422351,\n",
       "        2.46772428, 2.467724  , 2.467724  , 2.46772428, 4.27422351,\n",
       "        2.46772428, 0.        , 2.46772428],\n",
       "       [2.84948234, 3.7695107 , 3.769511  , 2.84948267, 2.84948234,\n",
       "        1.42474117, 1.42474117, 3.769511  , 1.42474133, 2.467724  ,\n",
       "        4.27422351, 2.46772428, 4.27422351, 2.467724  , 2.46772428,\n",
       "        2.46772428, 2.46772428, 0.        ]])"
      ]
     },
     "metadata": {},
     "output_type": "display_data"
    }
   ],
   "source": [
    "graphene_sc_distance_matrix = graphene_supercell.distance_matrix\n",
    "display(graphene_sc_distance_matrix)"
   ]
  },
  {
   "cell_type": "markdown",
   "id": "78d81beb",
   "metadata": {},
   "source": [
    "In graphene_sc_distance_matrix, the element in position $i,j$ is the distance (in Å) between atom $i$ and atom $j$."
   ]
  },
  {
   "cell_type": "markdown",
   "id": "dc135841",
   "metadata": {},
   "source": [
    "Next we will create a list of unique distances contained in the graphene_sc_distance_matrix to identify the number of \"shells\" an atom has. We will do so by using numpy:"
   ]
  },
  {
   "cell_type": "markdown",
   "id": "184aaef9",
   "metadata": {},
   "source": [
    "shells = np.unique(distance_matrix_pbc[0])\n",
    "display(shells)"
   ]
  },
  {
   "cell_type": "code",
   "execution_count": 13,
   "id": "6385d810",
   "metadata": {},
   "outputs": [
    {
     "data": {
      "text/plain": [
       "array([0.     , 1.42474, 2.46772, 2.84948, 3.76951, 4.27422])"
      ]
     },
     "metadata": {},
     "output_type": "display_data"
    }
   ],
   "source": [
    "shells = np.unique(np.round(graphene_sc_distance_matrix[0],5)) \n",
    "display(shells)"
   ]
  },
  {
   "cell_type": "markdown",
   "id": "6d53841d",
   "metadata": {},
   "source": [
    "In this model, we are only interested in the nearest neighbours, i.e. the ones in the first coordination shell, which corresponds to the element in position 1 of the array above (remember that in python we start counting from 0). Therefore, we can combine the information contained in the graphene_sc_distance_matrix and shells arrays to generate the adjacency matrix:"
   ]
  },
  {
   "cell_type": "code",
   "execution_count": 14,
   "id": "435ca2fd",
   "metadata": {},
   "outputs": [
    {
     "data": {
      "text/plain": [
       "array([[0, 0, 0, 0, 0, 0, 0, 0, 0, 1, 0, 1, 1, 0, 0, 0, 0, 0],\n",
       "       [0, 0, 0, 0, 0, 0, 0, 0, 0, 1, 1, 0, 0, 1, 0, 0, 0, 0],\n",
       "       [0, 0, 0, 0, 0, 0, 0, 0, 0, 0, 1, 1, 0, 0, 1, 0, 0, 0],\n",
       "       [0, 0, 0, 0, 0, 0, 0, 0, 0, 0, 0, 0, 1, 0, 1, 1, 0, 0],\n",
       "       [0, 0, 0, 0, 0, 0, 0, 0, 0, 0, 0, 0, 1, 1, 0, 0, 1, 0],\n",
       "       [0, 0, 0, 0, 0, 0, 0, 0, 0, 0, 0, 0, 0, 1, 1, 0, 0, 1],\n",
       "       [0, 0, 0, 0, 0, 0, 0, 0, 0, 1, 0, 0, 0, 0, 0, 1, 0, 1],\n",
       "       [0, 0, 0, 0, 0, 0, 0, 0, 0, 0, 1, 0, 0, 0, 0, 1, 1, 0],\n",
       "       [0, 0, 0, 0, 0, 0, 0, 0, 0, 0, 0, 1, 0, 0, 0, 0, 1, 1],\n",
       "       [1, 1, 0, 0, 0, 0, 1, 0, 0, 0, 0, 0, 0, 0, 0, 0, 0, 0],\n",
       "       [0, 1, 1, 0, 0, 0, 0, 1, 0, 0, 0, 0, 0, 0, 0, 0, 0, 0],\n",
       "       [1, 0, 1, 0, 0, 0, 0, 0, 1, 0, 0, 0, 0, 0, 0, 0, 0, 0],\n",
       "       [1, 0, 0, 1, 1, 0, 0, 0, 0, 0, 0, 0, 0, 0, 0, 0, 0, 0],\n",
       "       [0, 1, 0, 0, 1, 1, 0, 0, 0, 0, 0, 0, 0, 0, 0, 0, 0, 0],\n",
       "       [0, 0, 1, 1, 0, 1, 0, 0, 0, 0, 0, 0, 0, 0, 0, 0, 0, 0],\n",
       "       [0, 0, 0, 1, 0, 0, 1, 1, 0, 0, 0, 0, 0, 0, 0, 0, 0, 0],\n",
       "       [0, 0, 0, 0, 1, 0, 0, 1, 1, 0, 0, 0, 0, 0, 0, 0, 0, 0],\n",
       "       [0, 0, 0, 0, 0, 1, 1, 0, 1, 0, 0, 0, 0, 0, 0, 0, 0, 0]])"
      ]
     },
     "metadata": {},
     "output_type": "display_data"
    }
   ],
   "source": [
    "adjacency_matrix = (np.round(graphene_sc_distance_matrix,5) == shells[1]).astype(int)\n",
    "display(adjacency_matrix)"
   ]
  },
  {
   "cell_type": "code",
   "execution_count": null,
   "id": "95b862b3",
   "metadata": {},
   "outputs": [],
   "source": [
    "import pandas as pd\n",
    "#pd.DataFrame(adjacency_matrix).style.to_latex()"
   ]
  },
  {
   "cell_type": "markdown",
   "id": "20c81f28",
   "metadata": {},
   "source": [
    "In adjacency_matrix:\n",
    "- the element in position $i,j$ = 1 if atoms $i$ and $j$ are bonded\n",
    "- the element in position $i,j$ = 0 if atoms $i$ and $j$ are not bonded\n",
    "\n",
    "We can verify this for the atom 0. Let's look at the position of the 1s in the first line of the adjacency_matrix:"
   ]
  },
  {
   "cell_type": "code",
   "execution_count": 15,
   "id": "cb6a476f",
   "metadata": {},
   "outputs": [
    {
     "data": {
      "text/plain": [
       "array([ 9, 11, 12])"
      ]
     },
     "execution_count": 15,
     "metadata": {},
     "output_type": "execute_result"
    }
   ],
   "source": [
    "np.where(adjacency_matrix[0] == 1)[0]"
   ]
  },
  {
   "cell_type": "markdown",
   "id": "e43fc081",
   "metadata": {},
   "source": [
    "We can see that atom 0 is bound to atoms 9, 11 and 12. This is confirmed by looking at the image above, where we can see that atoms 9 and 11 are next to atom 0. Atom 12 is at the other end of the cell and this is where the periodic boundary conditions (or 2D periodicity is included in the model). By saying that atom 0 and 12 are bonded, we are saying that once we get to the end of the cell, we start back from the opposite side (explain better)."
   ]
  },
  {
   "cell_type": "markdown",
   "id": "44f70465",
   "metadata": {},
   "source": [
    "## Classical approach"
   ]
  },
  {
   "cell_type": "markdown",
   "id": "7cd3d2c1",
   "metadata": {},
   "source": [
    "What is meant by \"Classical approach\" is that we are going to follow the usual workflow in computational materials chemistry:\n",
    "\n",
    "- define the system\n",
    "- define the model used to describe the model\n",
    "- define the model used to calculate the energy of the system\n",
    "- calculate the energy\n",
    "\n",
    "The system and the model to represent it were described above in terms of **c** and **x** vectors and the **adjacency_matrix**.\n",
    "\n",
    "We are going to start by defining a very simple model to calculate the energy of the system:\n",
    "\n",
    "- each bond decreases the energy by 1 a.u. (arbitrary unit)\n",
    "\n",
    "Therefore, the task will be finding out how many bonds there are in the system. \n",
    "\n",
    "A very simple way to achieve this would be counting how many 1s there are in the adjacenty_matrix and divide that number by two because this procedure counts the bond between $i$ and $j$ and the bond between $j$ and $i$ as two separate bonds. Let's see how we could do this:"
   ]
  },
  {
   "cell_type": "code",
   "execution_count": null,
   "id": "eb5cbbb0",
   "metadata": {},
   "outputs": [],
   "source": [
    "num_bonds = np.sum(adjacency_matrix)/2\n",
    "display(num_bonds)"
   ]
  },
  {
   "cell_type": "markdown",
   "id": "cf3b67d7",
   "metadata": {},
   "source": [
    "The above described procedure works well if there are no vacancies in the system. Let's think about a way to describe systems with vacancies.\n",
    "\n",
    "We are going to start by multiplying the **x** vector by the **adjacency_matrix** and call this intermediate result **r**:"
   ]
  },
  {
   "cell_type": "code",
   "execution_count": null,
   "id": "c132d2dc",
   "metadata": {},
   "outputs": [],
   "source": [
    "r = np.matmul(x,adjacency_matrix)\n",
    "display(r)"
   ]
  },
  {
   "cell_type": "markdown",
   "id": "d02bea33",
   "metadata": {},
   "source": [
    "The vector **r** has length number of atoms in the supercell. The element $r_{i}$ tell us how many atoms the atom $i$ is bonded to."
   ]
  },
  {
   "cell_type": "markdown",
   "id": "4927dc04",
   "metadata": {},
   "source": [
    "Now we are going to multiply $\\bf x^{T}$ by **r** and multiply by -1 and divide the final result by 2 to obtain the energy:"
   ]
  },
  {
   "cell_type": "code",
   "execution_count": null,
   "id": "ddf164a3",
   "metadata": {},
   "outputs": [],
   "source": [
    "E = -0.5 * np.matmul(x,r)\n",
    "display(E)"
   ]
  },
  {
   "cell_type": "markdown",
   "id": "feceedcf",
   "metadata": {},
   "source": [
    "### 1 vacancy"
   ]
  },
  {
   "cell_type": "markdown",
   "id": "fc1955b5",
   "metadata": {},
   "source": [
    "Let's now simulate systems with 1 vacancy. At first we will introduce the vacancy in position 0. To achieve this, we will replace the 1 in position 0 of the x vector by a 0:"
   ]
  },
  {
   "cell_type": "code",
   "execution_count": null,
   "id": "c49a67d8",
   "metadata": {},
   "outputs": [],
   "source": [
    "x[0] = 0\n",
    "display(x)"
   ]
  },
  {
   "cell_type": "markdown",
   "id": "491b83dc",
   "metadata": {},
   "source": [
    "We will calculate the energy of the system following the same procedure used above, but this time we will perform both steps at once:\n",
    "\n",
    "$$\n",
    "E = - 0.5 \\  \\bf x^{T} * \\ adjacency\\_matrix * \\ x\n",
    "$$"
   ]
  },
  {
   "cell_type": "code",
   "execution_count": null,
   "id": "3ab648d3",
   "metadata": {},
   "outputs": [],
   "source": [
    "E = - 0.5 * np.matmul(x,np.matmul(x,adjacency_matrix))\n",
    "display(E)"
   ]
  },
  {
   "cell_type": "markdown",
   "id": "10687c48",
   "metadata": {},
   "source": [
    "As expected, one vacancy removes 3 bonds and, therefore, the energy went up by 3 a.u.\n",
    "\n",
    "Because of the symmetry of the system and the way the model is built, all atom positions are equivalent. This means that a vacancy in any position will increase the energy by 3 a.u., but let's confirm this.\n",
    "\n",
    "Let's build a matrix, called **X**, where each row represents a possible position for the vacancy:"
   ]
  },
  {
   "cell_type": "code",
   "execution_count": null,
   "id": "02a49f91",
   "metadata": {},
   "outputs": [],
   "source": [
    "X = np.array([[1]*graphene_supercell.num_sites]*graphene_supercell.num_sites)\n",
    "np.fill_diagonal(X,0)"
   ]
  },
  {
   "cell_type": "code",
   "execution_count": null,
   "id": "75692f7b",
   "metadata": {},
   "outputs": [],
   "source": [
    "X"
   ]
  },
  {
   "cell_type": "markdown",
   "id": "f48f8660",
   "metadata": {},
   "source": [
    "In the **X** matrix, the row $i$ represents the configuration with the vacancy in the $i-th$ position."
   ]
  },
  {
   "cell_type": "markdown",
   "id": "65fae8f4",
   "metadata": {},
   "source": [
    "We could now procede to calculate the energy of each configuration using a for loop, i.e. multiply each line by the adjacency_matrix and then again by the transposed line. Let's do this in the cell below and use a faster approach later:"
   ]
  },
  {
   "cell_type": "code",
   "execution_count": null,
   "id": "30edde50",
   "metadata": {},
   "outputs": [],
   "source": [
    "energies = []\n",
    "for line in X:\n",
    "    energies.append(np.matmul(line, np.matmul(line, adjacency_matrix)))\n",
    "\n",
    "display(energies)"
   ]
  },
  {
   "cell_type": "markdown",
   "id": "e13bc44d",
   "metadata": {},
   "source": [
    "As expected, the energy if the same for each configuration. In the **energies** vector above, the element $e_i$ is the energy of the configuration $i$."
   ]
  },
  {
   "cell_type": "markdown",
   "id": "ce0da88b",
   "metadata": {},
   "source": [
    "The faster approach mentioned above consists in using linear algebra knowledge and multiply the **X** matrix by the **adjacency_matrix** directly:"
   ]
  },
  {
   "cell_type": "code",
   "execution_count": null,
   "id": "664a2fb9",
   "metadata": {},
   "outputs": [],
   "source": [
    "#REVIEW THIS\n",
    "energies = - np.matmul(X,adjacency_matrix)\n",
    "energies = np.sum(adjacency_matrix,axis = 1)\n",
    "display(energies)\n",
    "\n",
    "#E_tmp = -np.matmul(X_classical,adjacency_matrix)\n",
    "#E_classical = np.sum(X_classical*E_tmp,axis=1)"
   ]
  },
  {
   "cell_type": "markdown",
   "id": "9ac46474",
   "metadata": {},
   "source": [
    "The energy landscape as a function of the configuration is plotted below. The configuration index can be seen as representing in which position the vacancy is located, i.e. configuration 1 corresponds to\n",
    "```\n",
    "[1, 0, 1, 1, 1, 1, 1, 1, 1, 1, 1, 1, 1, 1, 1, 1, 1, 1]\n",
    "```\n",
    "\n",
    "Notice that the energy of all structures is -48 a.u. This will change when we introduce more vacancies (see below)."
   ]
  },
  {
   "cell_type": "code",
   "execution_count": null,
   "id": "427dfa5b",
   "metadata": {},
   "outputs": [],
   "source": [
    "import matplotlib.pyplot as plt\n",
    "\n",
    "font = {'size'   : 14.5,\n",
    "       'weight': 'normal'}\n",
    "\n",
    "plt.rc('font', **font)\n",
    "\n",
    "color = ['b','g','r','c','m','y','k','tab:orange']\n",
    "fig, ax = plt.subplots()\n",
    "\n",
    "x = np.arange(-.5,17.5,0.001)\n",
    "y = (energies[0]/2)*np.cos((2*x+1)*np.pi)-(energies[0]/2)\n",
    "\n",
    "ax.plot(x,y)\n",
    "\n",
    "ax.set_xlabel('Configuration', fontsize=20)\n",
    "ax.set_ylabel('Energy (a.u.)', fontsize=20) \n",
    "ax.set_ybound()\n",
    "\n",
    "ax.set_xticks(np.arange(0,18))\n",
    "ax.set_yticks(np.arange(-50,0,5))\n",
    "plt.xticks(fontsize=12)\n",
    "plt.yticks(fontsize=16)\n",
    "\n",
    "fig.set_size_inches(18.5, 10.5)\n",
    "\n",
    "plt.show()"
   ]
  },
  {
   "cell_type": "markdown",
   "id": "59e9958f",
   "metadata": {},
   "source": [
    "### All possible configurations"
   ]
  },
  {
   "cell_type": "markdown",
   "id": "8abcb5c7",
   "metadata": {},
   "source": [
    "As the final step of this \"classical approach\", we are going to calculate the energy of all possible configurations and number of vacancies. There will be $2^{num_atoms}$, so $2^{18} = 262144$ possible configurations. The new **X** matrix that contain all of them will be generated by using a python module called itertools. The first 10 configurations are displayed below."
   ]
  },
  {
   "cell_type": "code",
   "execution_count": 16,
   "id": "2ace3a95",
   "metadata": {},
   "outputs": [
    {
     "data": {
      "text/plain": [
       "array([[0, 0, 0, 0, 0, 0, 0, 0, 0, 0, 0, 0, 0, 0, 0, 0, 0, 0],\n",
       "       [0, 0, 0, 0, 0, 0, 0, 0, 0, 0, 0, 0, 0, 0, 0, 0, 0, 1],\n",
       "       [0, 0, 0, 0, 0, 0, 0, 0, 0, 0, 0, 0, 0, 0, 0, 0, 1, 0],\n",
       "       [0, 0, 0, 0, 0, 0, 0, 0, 0, 0, 0, 0, 0, 0, 0, 0, 1, 1],\n",
       "       [0, 0, 0, 0, 0, 0, 0, 0, 0, 0, 0, 0, 0, 0, 0, 1, 0, 0],\n",
       "       [0, 0, 0, 0, 0, 0, 0, 0, 0, 0, 0, 0, 0, 0, 0, 1, 0, 1],\n",
       "       [0, 0, 0, 0, 0, 0, 0, 0, 0, 0, 0, 0, 0, 0, 0, 1, 1, 0],\n",
       "       [0, 0, 0, 0, 0, 0, 0, 0, 0, 0, 0, 0, 0, 0, 0, 1, 1, 1],\n",
       "       [0, 0, 0, 0, 0, 0, 0, 0, 0, 0, 0, 0, 0, 0, 1, 0, 0, 0],\n",
       "       [0, 0, 0, 0, 0, 0, 0, 0, 0, 0, 0, 0, 0, 0, 1, 0, 0, 1]])"
      ]
     },
     "execution_count": 16,
     "metadata": {},
     "output_type": "execute_result"
    }
   ],
   "source": [
    "import itertools\n",
    "X = np.array(list(itertools.product([0, 1], repeat=18)))\n",
    "X[0:10]"
   ]
  },
  {
   "cell_type": "markdown",
   "id": "5e386ddb",
   "metadata": {},
   "source": [
    "Now we are going to use the same approach discussed above to calculate the energy of all the configurations. "
   ]
  },
  {
   "cell_type": "code",
   "execution_count": 17,
   "id": "d4cdfacd",
   "metadata": {},
   "outputs": [
    {
     "data": {
      "text/plain": [
       "array([  0,   0,   0, ..., -48, -48, -54])"
      ]
     },
     "execution_count": 17,
     "metadata": {},
     "output_type": "execute_result"
    }
   ],
   "source": [
    "energies = - np.sum(X*np.matmul(X,adjacency_matrix), axis=1)\n",
    "energies"
   ]
  },
  {
   "cell_type": "markdown",
   "id": "30b62e14",
   "metadata": {},
   "source": [
    "Let's now have a look at the unique energies for the set:"
   ]
  },
  {
   "cell_type": "code",
   "execution_count": 18,
   "id": "5cb8e584",
   "metadata": {},
   "outputs": [
    {
     "data": {
      "text/plain": [
       "array([-54, -48, -44, -42, -40, -38, -36, -34, -32, -30, -28, -26, -24,\n",
       "       -22, -20, -18, -16, -14, -12, -10,  -8,  -6,  -4,  -2,   0])"
      ]
     },
     "metadata": {},
     "output_type": "display_data"
    },
    {
     "data": {
      "text/plain": [
       "array([    1,    18,    27,   126,    54,   324,   564,   729,  1728,\n",
       "        2367,  4023,  6048,  8757, 12204, 16686, 20454, 25542, 28701,\n",
       "       30276, 30402, 26919, 21267, 14904,  7425,  2598])"
      ]
     },
     "metadata": {},
     "output_type": "display_data"
    }
   ],
   "source": [
    "energies_unique, count = np.unique(energies, return_counts=True)\n",
    "display(energies_unique)\n",
    "display(count)"
   ]
  },
  {
   "cell_type": "markdown",
   "id": "dc83fd30",
   "metadata": {},
   "source": [
    "In the cell above, the first array reports the unique energies, whereas, the second one reports how many structures corresponding to a certain energies were found."
   ]
  },
  {
   "cell_type": "markdown",
   "id": "42dab2e5",
   "metadata": {},
   "source": [
    "## Coordination energy"
   ]
  },
  {
   "cell_type": "markdown",
   "id": "83466e84",
   "metadata": {},
   "source": [
    "# Quantum annealing"
   ]
  },
  {
   "cell_type": "markdown",
   "id": "8ed1b8f1",
   "metadata": {},
   "source": [
    "In this section we are going to use a quantum annealer to find the lowest energy/energies structures for a certain configuration.\n",
    "\n",
    "This approach, opposite to the \"classical approach\", will consist of:\n",
    "\n",
    "- define the system \n",
    "- define the model to represent the system\n",
    "- encode both the model to represent the system and the energy model into a binary quadratic model (explain below)\n",
    "- run the annealing N times and analyse the results (energy and configuration)\n",
    "\n",
    "The important difference to notice with respect to the \"Classical model\" is that instead of defining the model to represent the system, we are encoding that information into the binary quadratic model that, by trying to find the lowest energy solution, will return both the energy of the system and the corresponding configuration. Therefore, we are still going to use the **c** vector, but the **x** vectors will be returned by the calculation."
   ]
  },
  {
   "cell_type": "markdown",
   "id": "8d61401e",
   "metadata": {},
   "source": [
    "### The Binary Quadratic Model"
   ]
  },
  {
   "cell_type": "markdown",
   "id": "2c63757f",
   "metadata": {},
   "source": [
    "The binary quadratic model can be expressed as:\n",
    "\n",
    "$$\n",
    "E = \\sum_{i} h_{i} x_{i} + \\sum_{i,j} J_{i,j} x_{i}x_{j}\n",
    "$$\n",
    "\n",
    "where, in the context of quantum annealing computing:\n",
    "\n",
    "- $h_i$ is called bias \n",
    "- $J_{i,j}$ is called coupling\n",
    "\n",
    "The bias corresponds to the magnetic fiels applied to the qubit that will make the spin up or spin down more or less favourable. The coupling is the stringth that will be applied between qubits to make them end up in the same/opposite state (EXPLAIN BETTER).\n",
    "\n",
    "We can think of representing the $h_{i}$ and $J_{i,j}$ as a matrix, where the $h_{i}$ are the diagonal elements and the $J_{i,j}$ the off diagonal elements. This is usually referred to as a QUBO (Quadratic Unconstrained Binary Optimisation):\n",
    "\n",
    "$$\n",
    "E({\\bf x}) =  {\\bf x^{T}}\\ {\\bf Q}\\ {\\bf x} = \\sum_{i} Q_{i,i} x_{i} + \\sum_{i} \\sum_{j > i} Q_{i,j} x_{i}x_{j}\n",
    "$$\n",
    "\n",
    "where: \n",
    "- ${\\bf Q}$ is the QUBO matrix. This matrix defines the problem. It needs, therefore, to encode the problem itself. This is where the quantum annealing algorithm developers will dedicate their efforts.\n",
    "- ${\\bf x}$ is the binary vector, returned by the quantum annealer, that corresponds to $E({\\bf x})$.\n",
    "\n",
    "Minimise the energy\n",
    "\n",
    "\n",
    "**The quantum annealing for quantum chemists/material scientists workflow**\n",
    "\n",
    "Let's see what are the steps the quantum chemists/materials scientists need to take in order to run their simulations on a quantum annealer.\n",
    "\n",
    "XXX"
   ]
  },
  {
   "cell_type": "markdown",
   "id": "674d9cb2",
   "metadata": {},
   "source": [
    "### Binary Quadratic Model for graphene "
   ]
  },
  {
   "cell_type": "markdown",
   "id": "20709460",
   "metadata": {},
   "source": [
    "Let's start building the binary quadratic model for the graphene 3x3 supercell. We will use the c vector as defined above:"
   ]
  },
  {
   "cell_type": "code",
   "execution_count": null,
   "id": "4083f992",
   "metadata": {},
   "outputs": [],
   "source": [
    "print(c)"
   ]
  },
  {
   "cell_type": "markdown",
   "id": "7177879a",
   "metadata": {},
   "source": [
    "This time we will not define the x vectors, because it will be returned by the quantum annealer. However, we need to encode the problem in the $h_i$ and $J_{i,j}$ terms. So let's see how that translates:\n",
    "\n",
    "- the energy only depends on the presence of the bonds\n",
    "- if the $x_i$ element of the ${\\bf x}$ vector is one, it means the atom is present (viceversa for 0)\n",
    "- if atom $i$ and atom $j$ are nearest neighbours and they are both present, the energy of the system decreases by 1 a.u.\n",
    "\n",
    "With this in mind we can say:\n",
    "\n",
    "- $h_i$ = 0 for each i. This is because the energy of the system only depends on the presence of the bond, which is a 2 atom property\n",
    "- $J_{i,j}$ = -1 if atom $i$ and atom $j$ are nearest neighbours, 0 otherwise\n",
    "\n",
    "If you recall, the definition of the adjacency_matrix is that $J_{i,j}$ = 1 if atom $i$ and atom $j$ are nearest neighbours, 0 otherwise. We can, therefore, use the -adjacency_matrix to build the model. \n",
    "\n",
    "The **objective** is minimising the following expression:\n",
    "\n",
    "$$\n",
    "\\sum_{i}^{N_{atoms}}\\sum_{j>i}^{N_{atoms}} -A_{i,j} x_{i} x_{j}\n",
    "$$\n",
    "\n",
    "Since the adjacency_matrix is already a matrix itself, we will use the QUBO formulation of the problem.\n",
    "\n",
    "D-Wave systems offers a comprehensive library (dimod) to build binary quadratic models. In the cell below we will import the BinaryQuadraticModel class from dimod.\n",
    "\n",
    "We then procede to building the QUBO matrix ${\\bf Q}$. We use the numpy triu function that selects the top right handside part of the adjacency_matrix. This is because we don't want to double count the bonds. \n",
    "\n",
    "Finally, we generate the BinaryQuadraticModel from the ${\\bf Q}$ matrix by using the .from_qubo command. "
   ]
  },
  {
   "cell_type": "code",
   "execution_count": null,
   "id": "b8e0c301",
   "metadata": {},
   "outputs": [],
   "source": [
    "from dimod import BinaryQuadraticModel\n",
    "\n",
    "Q = np.triu(-adjacency_matrix.astype(int),0)\n",
    "\n",
    "bqm = BinaryQuadraticModel.from_qubo(Q)"
   ]
  },
  {
   "cell_type": "markdown",
   "id": "92d661a2",
   "metadata": {},
   "source": [
    "An interesting feature of the bqm object is that you can inspect it. For example, it can be transformed into Numpy vectors and from there the linear and quadratic biases exhamined:"
   ]
  },
  {
   "cell_type": "code",
   "execution_count": null,
   "id": "edc94ca7",
   "metadata": {},
   "outputs": [],
   "source": [
    "bqm.to_numpy_vectors().linear_biases"
   ]
  },
  {
   "cell_type": "code",
   "execution_count": null,
   "id": "a5d8dee0",
   "metadata": {},
   "outputs": [],
   "source": [
    "bqm.to_numpy_vectors().quadratic"
   ]
  },
  {
   "cell_type": "markdown",
   "id": "0a63eb94",
   "metadata": {},
   "source": [
    "The quadratic biases might be more difficult to interpret, so I will go into some more detail. \n",
    "\n",
    "bqm.to_numpy_vectors().quadratic contains the parts:\n",
    "- row_indices\n",
    "- col_indices\n",
    "- biases\n",
    "\n",
    "You can think of the first two, the row_indices and col_indices as the indices of a matrix and biases the value of the element. If an element is not present in the row_indices, col_indices it is assumed to be 0. \n",
    "\n",
    "This is probably easier seen than explained. In the cell below I will reconstruct the ${\\bf Q}$ matrix from the bqm.to_numpy_vectors():"
   ]
  },
  {
   "cell_type": "code",
   "execution_count": null,
   "id": "fed0eedb",
   "metadata": {},
   "outputs": [],
   "source": [
    "# Build a n_atoms x n_atoms matrix containing only 0s\n",
    "qubo_matrix = np.array([[0]*graphene_supercell.num_sites]*graphene_supercell.num_sites)\n",
    "\n",
    "num_non_zero_elements = len(bqm.to_numpy_vectors().quadratic.row_indices)\n",
    "\n",
    "row_indices = bqm.to_numpy_vectors().quadratic.row_indices\n",
    "col_indices = bqm.to_numpy_vectors().quadratic.col_indices\n",
    "\n",
    "biases = bqm.to_numpy_vectors().quadratic.biases\n",
    "\n",
    "#Assign the quadratic biases to the elements\n",
    "for i in range(num_non_zero_elements):\n",
    "    qubo_matrix[row_indices[i]][col_indices[i]] = biases[i]\n",
    "\n",
    "#Transpose the matrix (the model builds the lower left side of the matrix, it is hermitian, so it doesn't matter)    \n",
    "qubo_matrix = qubo_matrix.transpose()"
   ]
  },
  {
   "cell_type": "code",
   "execution_count": null,
   "id": "de8e89ca",
   "metadata": {},
   "outputs": [],
   "source": [
    "np.fill_diagonal(qubo_matrix,bqm.to_numpy_vectors().linear_biases)"
   ]
  },
  {
   "cell_type": "code",
   "execution_count": null,
   "id": "7a372b17",
   "metadata": {},
   "outputs": [],
   "source": [
    "qubo_matrix1 = copy.deepcopy(qubo_matrix)"
   ]
  },
  {
   "cell_type": "markdown",
   "id": "3b4edb92",
   "metadata": {},
   "source": [
    "Just to confirm we got the original ${\\bf Q}$ matrix back, let's subtract one from the other and confirm all elements are 0:"
   ]
  },
  {
   "cell_type": "code",
   "execution_count": null,
   "id": "a833b537",
   "metadata": {},
   "outputs": [],
   "source": [
    "np.all((qubo_matrix - Q) == 0.)"
   ]
  },
  {
   "cell_type": "code",
   "execution_count": null,
   "id": "37b3f0a0",
   "metadata": {},
   "outputs": [],
   "source": [
    "from dwave.system import EmbeddingComposite, DWaveSampler"
   ]
  },
  {
   "cell_type": "markdown",
   "id": "8c69355d",
   "metadata": {},
   "source": [
    "### Add contraints"
   ]
  },
  {
   "cell_type": "markdown",
   "id": "f47d8fef",
   "metadata": {},
   "source": [
    "XXX\n",
    "\n",
    "Let's define $N_{a} = N_{atoms} - N_{vac}$ as the total number of atoms in the resulting cell.\n",
    "\n",
    "Then, we can define a constraint where the sum of all the elements in the $\\bf x$ vector to be equal to $N_{a}$:\n",
    "\n",
    "$$\n",
    "\\sum_{i}^{N_{atoms}} w_{i} \\ x_{i} = N_{a}\n",
    "$$\n",
    "\n",
    "where $w_{i}$ is the weight for atom $i$. In this instance, all the weights are 1 (but we will still need to define them in the cell below). Therefore, the above equation becomes:\n",
    "That can be seen as:\n",
    "\n",
    "$$\n",
    "\\sum_{i}^{N_{atoms}} x_{i} = N_{a}\n",
    "$$\n",
    "\n",
    "This can be reformulated as:\n",
    "\n",
    "$$\n",
    "\\sum_{i}^{N_{atoms}} x_{i} - N_{a} = 0\n",
    "$$\n",
    "\n",
    "For the binary quadratic model, we need to represent the constraing/objective, as a mathematical expression that is satisfied at its minimum value. We achieve this, by squaring the above expression. This way, the minimum value of 0 that occurs when the condition $\\sum_{i}^{N_{atoms}} w_{i} \\ x_{i} = N_{a}$ is satisfied:\n",
    "\n",
    "$$\n",
    "\\left(\\sum_{i}^{N_{atoms}} x_{i} - N_{a}\\right)^{2} =\n",
    "$$\n",
    "\n",
    "$$\n",
    "\\sum_{i}^{N_{atoms}} x_{i}^{2} + \n",
    "\\sum_{i}^{N_{atoms}}\\sum_{j>i}^{N_{atoms}} 2 x_{i} x_{j} - \n",
    "\\sum_{i}^{N_{atoms}} 2 x_{i} N_{a} +\n",
    "N_{a}^{2}\n",
    "$$\n",
    "\n",
    "$$\n",
    "\\sum_{i}^{N_{atoms}} \\left(1-2N_{a}\\right) x_{i} +\n",
    "\\sum_{i}^{N_{atoms}}\\sum_{j>i}^{N_{atoms}} 2 x_{i} x_{j}\n",
    "$$\n",
    "\n",
    "Where the last result was obtained by remembering that $\\bf x$ is a binary array and $0^{2} = 0$ and $1^{2} = 1$.\n",
    "\n"
   ]
  },
  {
   "cell_type": "markdown",
   "id": "a62fba37",
   "metadata": {},
   "source": [
    "Now we will simply combine this constraint with the objective function defined above:\n",
    "\n",
    "$$\n",
    "\\underbrace{\n",
    "- \\alpha \\sum_{i}^{N_{atoms}}\\sum_{j>i}^{N_{atoms}} A_{i,j} x_{i} x_{j}\n",
    "}_\\text{objective}\n",
    "+\n",
    "\\underbrace{\n",
    "\\gamma\n",
    "\\left(\n",
    "\\sum_{i}^{N_{atoms}} \\left(1-2N_{a}\\right) x_{i} +\n",
    "\\sum_{i}^{N_{atoms}}\\sum_{j>i}^{N_{atoms}} 2 x_{i} x_{j}\n",
    "\\right)\n",
    "}_\\text{constraint} = \n",
    "$$\n",
    "\n",
    "$$\n",
    "\\gamma \\sum_{i}^{N_{atoms}} \\left(1-2N_{a}\\right) x_{i} +\n",
    "\\sum_{i}^{N_{atoms}}\\sum_{j>i}^{N_{atoms}} \\left(2\\gamma - \\alpha A_{i,j}\\right) x_{i} x_{j}\n",
    "$$\n",
    "\n",
    "Therefore,\n",
    "\n",
    "$$\n",
    "h_{i} = \\left(1-2N_{a}\\right)\\ \\ \\ \\ \\ J_{ij} = \\left(2\\gamma - \\alpha A_{i,j}\\right)\n",
    "$$\n",
    "The factor $\\gamma$, also called Lagrange parameter, determines the weight of the constraint wrt to the objective. In other words, how much should the final energy be affected by not respecting the constraint? Because the QA will return other solutions aside the global minima, this will determine whether higher energy solutions should be allowed or not."
   ]
  },
  {
   "cell_type": "markdown",
   "id": "c8ffe832",
   "metadata": {},
   "source": [
    "In practice, we don't need to manually specify the above terms. The *dimod* library does that for us. We can, therefore, define the contraint like in the cell below:"
   ]
  },
  {
   "cell_type": "code",
   "execution_count": null,
   "id": "fee1ceca",
   "metadata": {},
   "outputs": [],
   "source": [
    "Q = np.triu(-adjacency_matrix.astype(int),0)\n",
    "\n",
    "bqm = BinaryQuadraticModel.from_qubo(Q)\n",
    "\n",
    "weight = 1\n",
    "c_n_vacancies = [(i,weight) for i in c]\n",
    "\n",
    "num_vacancies = 1\n",
    "\n",
    "bqm.add_linear_equality_constraint(\n",
    "        c_n_vacancies,\n",
    "        constant= -(graphene_supercell.num_sites-num_vacancies),\n",
    "        lagrange_multiplier = 10\n",
    "        )"
   ]
  },
  {
   "cell_type": "markdown",
   "id": "0c1b4cd4",
   "metadata": {},
   "source": [
    "The term\n",
    "```\n",
    "c_n_vacancies = [(i,1) for i in c]\n",
    "```\n",
    "looks like:"
   ]
  },
  {
   "cell_type": "code",
   "execution_count": null,
   "id": "c5aef779",
   "metadata": {},
   "outputs": [],
   "source": [
    "print(c_n_vacancies)"
   ]
  },
  {
   "cell_type": "markdown",
   "id": "37dbb1d4",
   "metadata": {},
   "source": [
    "Each touple contains:\n",
    "- the number atom\n",
    "- the atom weight (see equation XX above)\n",
    "\n",
    "The constant is the term that was moved left of the = sign in eq XX.\n",
    "\n",
    "Let's see how the bqm is affected by the introduction of the constraint. We are going to examin the model in terms of QUBO matrices. First, let's see the QUBO matrix containing the objective only:"
   ]
  },
  {
   "cell_type": "code",
   "execution_count": null,
   "id": "888bc5d6",
   "metadata": {},
   "outputs": [],
   "source": [
    "Q = np.triu(-adjacency_matrix.astype(int),0)\n",
    "display(Q)"
   ]
  },
  {
   "cell_type": "markdown",
   "id": "1bbfdd6f",
   "metadata": {},
   "source": [
    "Now let's use the cell below to print the bqm as a QUBO matrix:"
   ]
  },
  {
   "cell_type": "code",
   "execution_count": null,
   "id": "21420113",
   "metadata": {},
   "outputs": [],
   "source": [
    "# Build a n_atoms x n_atoms matrix containing only 0s\n",
    "qubo_matrix = np.array([[0]*graphene_supercell.num_sites]*graphene_supercell.num_sites)\n",
    "\n",
    "num_non_zero_elements = len(bqm.to_numpy_vectors().quadratic.row_indices)\n",
    "\n",
    "row_indices = bqm.to_numpy_vectors().quadratic.row_indices\n",
    "col_indices = bqm.to_numpy_vectors().quadratic.col_indices\n",
    "\n",
    "biases = bqm.to_numpy_vectors().quadratic.biases\n",
    "\n",
    "#Assign the quadratic biases to the elements\n",
    "for i in range(num_non_zero_elements):\n",
    "    qubo_matrix[row_indices[i]][col_indices[i]] = biases[i]\n",
    "for i in range(len(bqm.to_numpy_vectors().linear_biases)):\n",
    "    qubo_matrix[i][i] = bqm.to_numpy_vectors().linear_biases[i]\n",
    "\n",
    "    #Transpose the matrix (the model builds the lower left side of the matrix, it is hermitian, so it doesn't matter)    \n",
    "qubo_matrix = qubo_matrix.transpose()\n",
    "display(qubo_matrix)"
   ]
  },
  {
   "cell_type": "markdown",
   "id": "b56de2d3",
   "metadata": {},
   "source": [
    "- -350 was added to the diagonal elements ($h_i$ in the bqm) \n",
    "- +20 was added to the off diagonal elements ($J_{i,j}$ in the bqm) \n",
    "\n",
    "This can be explained by using equation XX (copied here):\n",
    "\n",
    "$$\n",
    "\\gamma\n",
    "\\left(\n",
    "\\sum_{i}^{N_{atoms}} \\left(1-2N_{a}\\right) x_{i} +\n",
    "\\sum_{i}^{N_{atoms}}\\sum_{j>i}^{N_{atoms}} 2 x_{i} x_{j}\n",
    "\\right)\n",
    "$$\n",
    "\n",
    "where $\\gamma = 10$, $N_{a} = 17$ (1 vacancy).\n",
    "\n"
   ]
  },
  {
   "cell_type": "markdown",
   "id": "489cc561",
   "metadata": {},
   "source": [
    "### Classical check on the contraint"
   ]
  },
  {
   "cell_type": "markdown",
   "id": "7514bdef",
   "metadata": {},
   "source": [
    "Now we will do a \"classical check\". Let's try to use the new qubo matrix to calculate the energy of all possible configurations and confirm that the lower energy ones are the 1-vacancy ones."
   ]
  },
  {
   "cell_type": "code",
   "execution_count": null,
   "id": "4270bb33",
   "metadata": {},
   "outputs": [],
   "source": [
    "#WIP"
   ]
  },
  {
   "cell_type": "markdown",
   "id": "56457ae7",
   "metadata": {},
   "source": [
    "## Coordination as an objective\n",
    "\n",
    "In this section we are going to refine the model described above by adding an extra term to the function that calculates the energy. The model used so far is very efficient in calculating the number of broken bonds. \n",
    "\n",
    "However, ask any chemist or material scientist and they will tell you this is not enought to discriminate between same energy structures. \n",
    "\n",
    "For example, the image below reports two structures, both containing two vacancies. As you can see, they both have XXX broken bonds and, therefore, the model discussed above calculates the same energy value of XXX au. XXX\n",
    "\n",
    "INSERT IMAGE\n",
    "\n",
    "We can go one step further by starting to think of undercoordinated atoms. We know that the more uncoordinated an atom is, the more unstable it is going to be.\n",
    "\n",
    "For this we need to start looking at whether the atoms surrounding atom $i$ are present or not.\n",
    "\n",
    "This objective can be expressed as:\n",
    "\n",
    "- $J_{ij} = 1$ if atom j is a neighbour of the neighbours of atom i\n",
    "- $J_{ij} = 0$ if atom j is not a neighbour of the neighbours of atom i\n",
    "\n",
    "Let's write this as a matrix that we are going to call the adj_adj_matrix or B (to say that it contains informations about the atoms adjacent to the adjacent atoms).\n",
    "\n",
    "$B_{i,k} =1 $ if $A_{i,j} = 1$ and $A_{j,k} = 1$\n",
    "\n",
    "Fo example:\n",
    "- atom 13 is connected to atoms 1, 4 and 5\n",
    "    - atom 1 is connected to atoms 9, 10 and 13\n",
    "    - atom 4 is connected to atoms 12, 13 and 16\n",
    "    - atom 5 is connected to atoms 13, 14 and 17\n",
    "- $J_{13,j} = 1$ if $j \\in \\{9, 10, 12, 14, 16, 17\\}$\n",
    "\n"
   ]
  },
  {
   "cell_type": "markdown",
   "id": "50ff524a",
   "metadata": {},
   "source": [
    "Let's write this as a binary equation. The functions whose minimum energy we want to find is:\n",
    "\n",
    "$$\n",
    "\\underbrace{\n",
    "-\n",
    "\\beta \\sum_{i}^{N_{atoms}}\\sum_{j>i}^{N_{atoms}} B_{i,j} x_{i} x_{j}\n",
    "}_\\text{coord objective}\n",
    "$$\n",
    "\n",
    "where $\\beta$ is a scaling factor. The ratio between $\\alpha$ and $\\beta$ will define how important the coordination wrt the number of broken bonds is.\n",
    "\n",
    "By adding the coordination objective to the previously derived equation we obtain:\n",
    "\n",
    "$$\n",
    "-\n",
    "\\underbrace{\n",
    "\\alpha \\sum_{i}^{N_{atoms}}\\sum_{j>i}^{N_{atoms}} A_{i,j} x_{i} x_{j}\n",
    "}_\\text{broken bonds objective}\n",
    "-\n",
    "\\underbrace{\n",
    "\\beta \\sum_{i}^{N_{atoms}}\\sum_{j>i}^{N_{atoms}} B_{i,j} x_{i} x_{j}\n",
    "}_\\text{coord objective}\n",
    "+\n",
    "\\underbrace{\n",
    "\\gamma\n",
    "\\left(\n",
    "\\sum_{i}^{N_{atoms}} \\left(1-2N_{a}\\right) x_{i} +\n",
    "\\sum_{i}^{N_{atoms}}\\sum_{j>i}^{N_{atoms}} 2 x_{i} x_{j}\n",
    "\\right)\n",
    "}_\\text{constraint} = \n",
    "$$\n",
    "\n",
    "$$\n",
    "\\gamma \\sum_{i}^{N_{atoms}} \\left(1-2N_{a}\\right) x_{i} +\n",
    "\\sum_{i}^{N_{atoms}}\\sum_{j>i}^{N_{atoms}} \\left(2\\gamma - \\alpha A_{i,j} - \\beta B_{i,j}\\right) x_{i} x_{j}\n",
    "$$\n",
    "\n",
    "Therefore,\n",
    "\n",
    "$$\n",
    "h_{i} = \\left(1-2N_{a}\\right)\\ \\ \\ \\ \\ J_{ij} = \\left(2\\gamma - \\alpha A_{i,j} - \\beta B_{i,j}\\right)\n",
    "$$"
   ]
  },
  {
   "cell_type": "code",
   "execution_count": null,
   "id": "bf42164e",
   "metadata": {},
   "outputs": [],
   "source": [
    "for i in range(A.shape[0]):\n",
    "    J[i] = np.sum(A[np.where(A[i] == 1)],axis=0)\n",
    "np.fill_diagonal(J,0)\n",
    "# J is the adjadj matrix\n",
    "\n",
    "\n",
    "for i in range(graphene_supercell.num_sites):  \n",
    "    neighbours = np.where(adjacency_matrix[i,:] == 1)[0]\n",
    "    for j in range(len(neighbours)):\n",
    "        for k in range(j+1,len(neighbours)):\n",
    "                bqm.add_interaction(c[neighbours[j]],c[neighbours[k]],1)"
   ]
  },
  {
   "cell_type": "markdown",
   "id": "7f4b1f5d",
   "metadata": {},
   "source": [
    "# Chain strength"
   ]
  },
  {
   "cell_type": "markdown",
   "id": "f08d455b",
   "metadata": {},
   "source": [
    "### Uniform Torque Compensation\n",
    "\n",
    "$$\n",
    "chain\\_strength = \\sigma \\sqrt{\n",
    "\\frac{1}{J_{i,j}}\\sum_{j>i}^{N_{atoms}} J_{i,j}^{2}\n",
    "} \n",
    "\\sqrt{\n",
    "\\frac{1}{N_{atoms}} \\sum_{i}^{N_{atoms}} N_{edges}\n",
    "}\n",
    "\\ \\ \\ \\ \\ \\  for \\ \\ \\ J_{i,j} > 0.\n",
    "$$"
   ]
  },
  {
   "cell_type": "markdown",
   "id": "99fc1629",
   "metadata": {},
   "source": [
    "### Scaled\n",
    "\n",
    "$$\n",
    "\\sigma \\ \\ \\ max(h_{i},J_{i,j})\n",
    "$$"
   ]
  },
  {
   "cell_type": "markdown",
   "id": "41d93258",
   "metadata": {},
   "source": [
    "# Multiplicity of states"
   ]
  },
  {
   "cell_type": "markdown",
   "id": "7ab1e73d",
   "metadata": {},
   "source": [
    "$$\n",
    "\\Omega = \\frac{N!}{N_{\\uparrow}! N_{\\downarrow}!}\n",
    "$$\n",
    "\n",
    "Multiplicity of states for a number of vacancies"
   ]
  },
  {
   "cell_type": "markdown",
   "id": "931ace42",
   "metadata": {},
   "source": [
    "# THE END"
   ]
  },
  {
   "cell_type": "code",
   "execution_count": null,
   "id": "01c69602",
   "metadata": {},
   "outputs": [],
   "source": [
    "#TEST\n",
    "E_tmp = np.matmul(x1.transpose(),np.matmul(qubo_matrix,x1))\n",
    "display(np.matmul(qubo_matrix,x1))\n",
    "E_tmp"
   ]
  },
  {
   "cell_type": "code",
   "execution_count": null,
   "id": "53ddf2ff",
   "metadata": {},
   "outputs": [],
   "source": [
    "from pymatgen.io.ase import AseAtomsAdaptor\n",
    "from ase.visualize import view\n",
    "view(AseAtomsAdaptor().get_atoms(graphene_supercell))"
   ]
  }
 ],
 "metadata": {
  "kernelspec": {
   "display_name": "Python 3 (ipykernel)",
   "language": "python",
   "name": "python3"
  },
  "language_info": {
   "codemirror_mode": {
    "name": "ipython",
    "version": 3
   },
   "file_extension": ".py",
   "mimetype": "text/x-python",
   "name": "python",
   "nbconvert_exporter": "python",
   "pygments_lexer": "ipython3",
   "version": "3.9.12"
  }
 },
 "nbformat": 4,
 "nbformat_minor": 5
}
